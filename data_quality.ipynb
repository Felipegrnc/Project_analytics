{
 "cells": [
  {
   "cell_type": "code",
   "execution_count": 1,
   "metadata": {},
   "outputs": [],
   "source": [
    "import numpy as np\n",
    "import pandas as pd"
   ]
  },
  {
   "cell_type": "code",
   "execution_count": 2,
   "metadata": {},
   "outputs": [],
   "source": [
    "from global_variables import casos_ruta\n",
    "from global_variables import edu_vial2018_ruta\n",
    "from global_variables import encuesta_calidad_ruta\n",
    "from global_variables import encuesta_cultura_ruta\n",
    "from global_variables import hurto_tp_ruta\n",
    "from global_variables import lesion_nf_ruta\n",
    "from global_variables import mede_victimas_ruta\n",
    "from global_variables import traffic_ruta\n",
    "from global_variables import compar_ruta"
   ]
  },
  {
   "cell_type": "markdown",
   "metadata": {},
   "source": [
    "Cargue de los csv sin tratar"
   ]
  },
  {
   "cell_type": "code",
   "execution_count": null,
   "metadata": {},
   "outputs": [],
   "source": [
    "casos=pd.read_csv(casos_ruta, delimiter=\";\", encoding=\"utf-8\")\n",
    "edu_vial2018=pd.read_csv(edu_vial2018_ruta, delimiter=\";\", encoding=\"utf-8\")\n",
    "encuesta_calidad=pd.read_csv(encuesta_calidad_ruta, delimiter=\";\", encoding=\"utf-8\")\n",
    "encuesta_cultura=pd.read_csv(encuesta_cultura_ruta, delimiter=\";\", encoding=\"utf-8\")\n",
    "hurto_tp=pd.read_csv(hurto_tp_ruta, delimiter=\";\", encoding=\"utf-8\")\n",
    "lesion_nf=pd.read_csv(lesion_nf_ruta, delimiter=\";\", encoding=\"utf-8\")\n",
    "mede_victimas=pd.read_csv(mede_victimas_ruta, delimiter=\";\", encoding=\"utf-8\")\n",
    "traffic=pd.read_csv(traffic_ruta, delimiter=\";\", encoding=\"utf-8\")\n",
    "compar=pd.read_csv(compar_ruta, delimiter=\";\", encoding=\"utf-8\")"
   ]
  }
 ],
 "metadata": {
  "kernelspec": {
   "display_name": "project",
   "language": "python",
   "name": "python3"
  },
  "language_info": {
   "codemirror_mode": {
    "name": "ipython",
    "version": 3
   },
   "file_extension": ".py",
   "mimetype": "text/x-python",
   "name": "python",
   "nbconvert_exporter": "python",
   "pygments_lexer": "ipython3",
   "version": "3.10.11"
  },
  "orig_nbformat": 4
 },
 "nbformat": 4,
 "nbformat_minor": 2
}

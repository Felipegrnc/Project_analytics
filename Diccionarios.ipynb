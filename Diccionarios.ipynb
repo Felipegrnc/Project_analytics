{
 "cells": [
  {
   "cell_type": "code",
   "execution_count": 1,
   "metadata": {},
   "outputs": [],
   "source": [
    "from data_quality import cargue_datasets_c\n",
    "casos, hurto_tp, mede_victimas, compar = cargue_datasets_c()\n",
    "df = hurto_tp "
   ]
  },
  {
   "cell_type": "code",
   "execution_count": 3,
   "metadata": {},
   "outputs": [],
   "source": [
    "df = df.drop(['Fecha','Sexo','Edad','Año'], axis=1)"
   ]
  },
  {
   "cell_type": "code",
   "execution_count": 4,
   "metadata": {},
   "outputs": [
    {
     "data": {
      "text/html": [
       "<div>\n",
       "<style scoped>\n",
       "    .dataframe tbody tr th:only-of-type {\n",
       "        vertical-align: middle;\n",
       "    }\n",
       "\n",
       "    .dataframe tbody tr th {\n",
       "        vertical-align: top;\n",
       "    }\n",
       "\n",
       "    .dataframe thead th {\n",
       "        text-align: right;\n",
       "    }\n",
       "</style>\n",
       "<table border=\"1\" class=\"dataframe\">\n",
       "  <thead>\n",
       "    <tr style=\"text-align: right;\">\n",
       "      <th></th>\n",
       "      <th>Estado_civil</th>\n",
       "      <th>Transporte</th>\n",
       "      <th>Modalidad</th>\n",
       "      <th>Conducta</th>\n",
       "      <th>Comuna</th>\n",
       "      <th>Lugar</th>\n",
       "      <th>Bien</th>\n",
       "    </tr>\n",
       "  </thead>\n",
       "  <tbody>\n",
       "    <tr>\n",
       "      <th>0</th>\n",
       "      <td>Casado(a)</td>\n",
       "      <td>Taxi</td>\n",
       "      <td>Atraco</td>\n",
       "      <td>De celular</td>\n",
       "      <td>4.0</td>\n",
       "      <td>Vía pública</td>\n",
       "      <td>Celular</td>\n",
       "    </tr>\n",
       "    <tr>\n",
       "      <th>1</th>\n",
       "      <td>Unión marital de hecho</td>\n",
       "      <td>Taxi</td>\n",
       "      <td>Descuido</td>\n",
       "      <td>No</td>\n",
       "      <td>16.0</td>\n",
       "      <td>Vía pública</td>\n",
       "      <td>Elementos escolares</td>\n",
       "    </tr>\n",
       "    <tr>\n",
       "      <th>2</th>\n",
       "      <td>Unión marital de hecho</td>\n",
       "      <td>Taxi</td>\n",
       "      <td>Descuido</td>\n",
       "      <td>No</td>\n",
       "      <td>16.0</td>\n",
       "      <td>Vía pública</td>\n",
       "      <td>Computador</td>\n",
       "    </tr>\n",
       "    <tr>\n",
       "      <th>3</th>\n",
       "      <td>Casado(a)</td>\n",
       "      <td>Taxi</td>\n",
       "      <td>Atraco</td>\n",
       "      <td>A taxista</td>\n",
       "      <td>8.0</td>\n",
       "      <td>Vía pública</td>\n",
       "      <td>Peso</td>\n",
       "    </tr>\n",
       "    <tr>\n",
       "      <th>4</th>\n",
       "      <td>Casado(a)</td>\n",
       "      <td>Taxi</td>\n",
       "      <td>Atraco</td>\n",
       "      <td>A taxista</td>\n",
       "      <td>8.0</td>\n",
       "      <td>Vía pública</td>\n",
       "      <td>Celular</td>\n",
       "    </tr>\n",
       "    <tr>\n",
       "      <th>...</th>\n",
       "      <td>...</td>\n",
       "      <td>...</td>\n",
       "      <td>...</td>\n",
       "      <td>...</td>\n",
       "      <td>...</td>\n",
       "      <td>...</td>\n",
       "      <td>...</td>\n",
       "    </tr>\n",
       "    <tr>\n",
       "      <th>25705</th>\n",
       "      <td>Soltero(a)</td>\n",
       "      <td>Metro</td>\n",
       "      <td>Cosquilleo</td>\n",
       "      <td>Sin dato</td>\n",
       "      <td>10.0</td>\n",
       "      <td>Estación del Metro</td>\n",
       "      <td>Celular</td>\n",
       "    </tr>\n",
       "    <tr>\n",
       "      <th>25706</th>\n",
       "      <td>Soltero(a)</td>\n",
       "      <td>Metro</td>\n",
       "      <td>Cosquilleo</td>\n",
       "      <td>Sin dato</td>\n",
       "      <td>10.0</td>\n",
       "      <td>Estación del Metro</td>\n",
       "      <td>Celular</td>\n",
       "    </tr>\n",
       "    <tr>\n",
       "      <th>25707</th>\n",
       "      <td>Soltero(a)</td>\n",
       "      <td>Taxi</td>\n",
       "      <td>Atraco</td>\n",
       "      <td>Sin dato</td>\n",
       "      <td>4.0</td>\n",
       "      <td>Bar o cantina</td>\n",
       "      <td>Celular</td>\n",
       "    </tr>\n",
       "    <tr>\n",
       "      <th>25708</th>\n",
       "      <td>Soltero(a)</td>\n",
       "      <td>Metro</td>\n",
       "      <td>Cosquilleo</td>\n",
       "      <td>Sin dato</td>\n",
       "      <td>14.0</td>\n",
       "      <td>Estación del Metro</td>\n",
       "      <td>Celular</td>\n",
       "    </tr>\n",
       "    <tr>\n",
       "      <th>25709</th>\n",
       "      <td>Unión marital de hecho</td>\n",
       "      <td>Metro</td>\n",
       "      <td>Cosquilleo</td>\n",
       "      <td>Sin dato</td>\n",
       "      <td>4.0</td>\n",
       "      <td>Bus de servicio público</td>\n",
       "      <td>Celular</td>\n",
       "    </tr>\n",
       "  </tbody>\n",
       "</table>\n",
       "<p>25710 rows × 7 columns</p>\n",
       "</div>"
      ],
      "text/plain": [
       "                 Estado_civil Transporte   Modalidad    Conducta  Comuna   \n",
       "0                   Casado(a)       Taxi      Atraco  De celular     4.0  \\\n",
       "1      Unión marital de hecho       Taxi    Descuido          No    16.0   \n",
       "2      Unión marital de hecho       Taxi    Descuido          No    16.0   \n",
       "3                   Casado(a)       Taxi      Atraco   A taxista     8.0   \n",
       "4                   Casado(a)       Taxi      Atraco   A taxista     8.0   \n",
       "...                       ...        ...         ...         ...     ...   \n",
       "25705              Soltero(a)      Metro  Cosquilleo    Sin dato    10.0   \n",
       "25706              Soltero(a)      Metro  Cosquilleo    Sin dato    10.0   \n",
       "25707              Soltero(a)       Taxi      Atraco    Sin dato     4.0   \n",
       "25708              Soltero(a)      Metro  Cosquilleo    Sin dato    14.0   \n",
       "25709  Unión marital de hecho      Metro  Cosquilleo    Sin dato     4.0   \n",
       "\n",
       "                         Lugar                 Bien  \n",
       "0                  Vía pública              Celular  \n",
       "1                  Vía pública  Elementos escolares  \n",
       "2                  Vía pública           Computador  \n",
       "3                  Vía pública                 Peso  \n",
       "4                  Vía pública              Celular  \n",
       "...                        ...                  ...  \n",
       "25705       Estación del Metro              Celular  \n",
       "25706       Estación del Metro              Celular  \n",
       "25707            Bar o cantina              Celular  \n",
       "25708       Estación del Metro              Celular  \n",
       "25709  Bus de servicio público              Celular  \n",
       "\n",
       "[25710 rows x 7 columns]"
      ]
     },
     "execution_count": 4,
     "metadata": {},
     "output_type": "execute_result"
    }
   ],
   "source": [
    "df"
   ]
  },
  {
   "cell_type": "code",
   "execution_count": 5,
   "metadata": {},
   "outputs": [],
   "source": [
    "Estado_civil = df['Estado_civil'].unique()\n",
    "Transporte = df['Transporte'].unique()\n",
    "Modalidad = df['Modalidad'].unique()\n",
    "Conducta = df['Conducta'].unique()\n",
    "Comuna = df['Comuna'].unique()\n",
    "Lugar= df['Lugar'].unique()\n",
    "Bien= df['Bien'].unique()"
   ]
  },
  {
   "cell_type": "code",
   "execution_count": 15,
   "metadata": {},
   "outputs": [
    {
     "data": {
      "text/plain": [
       "6"
      ]
     },
     "execution_count": 15,
     "metadata": {},
     "output_type": "execute_result"
    }
   ],
   "source": [
    "len(Estado_civil)"
   ]
  },
  {
   "cell_type": "code",
   "execution_count": 14,
   "metadata": {},
   "outputs": [
    {
     "data": {
      "text/plain": [
       "3"
      ]
     },
     "execution_count": 14,
     "metadata": {},
     "output_type": "execute_result"
    }
   ],
   "source": [
    "len(Transporte)"
   ]
  },
  {
   "cell_type": "code",
   "execution_count": 16,
   "metadata": {},
   "outputs": [
    {
     "data": {
      "text/plain": [
       "19"
      ]
     },
     "execution_count": 16,
     "metadata": {},
     "output_type": "execute_result"
    }
   ],
   "source": [
    "len(Modalidad)"
   ]
  },
  {
   "cell_type": "code",
   "execution_count": 17,
   "metadata": {},
   "outputs": [
    {
     "data": {
      "text/plain": [
       "14"
      ]
     },
     "execution_count": 17,
     "metadata": {},
     "output_type": "execute_result"
    }
   ],
   "source": [
    "len(Conducta)"
   ]
  },
  {
   "cell_type": "code",
   "execution_count": 18,
   "metadata": {},
   "outputs": [
    {
     "data": {
      "text/plain": [
       "21"
      ]
     },
     "execution_count": 18,
     "metadata": {},
     "output_type": "execute_result"
    }
   ],
   "source": [
    "len(Comuna)"
   ]
  },
  {
   "cell_type": "code",
   "execution_count": 19,
   "metadata": {},
   "outputs": [
    {
     "data": {
      "text/plain": [
       "71"
      ]
     },
     "execution_count": 19,
     "metadata": {},
     "output_type": "execute_result"
    }
   ],
   "source": [
    "len(Lugar)"
   ]
  },
  {
   "cell_type": "code",
   "execution_count": 20,
   "metadata": {},
   "outputs": [
    {
     "data": {
      "text/plain": [
       "190"
      ]
     },
     "execution_count": 20,
     "metadata": {},
     "output_type": "execute_result"
    }
   ],
   "source": [
    "len(Bien)"
   ]
  },
  {
   "cell_type": "markdown",
   "metadata": {},
   "source": [
    "Estado civil: ['Casado(a)', 'Unión marital de hecho', 'Soltero(a)', 'Sin dato',\n",
    "       'Divorciado(a)', 'Viudo(a)']"
   ]
  },
  {
   "cell_type": "markdown",
   "metadata": {},
   "source": [
    "Transporte: ['Taxi', 'Metro', 'Autobus']"
   ]
  },
  {
   "cell_type": "markdown",
   "metadata": {},
   "source": [
    "Modalidad: ['Atraco', 'Descuido', 'Cosquilleo', 'Raponazo', 'Sin dato',\n",
    "       'Comisión de delito', 'Engaño', 'Escopolamina',\n",
    "       'Clonación de tarjeta', 'Rompimiento cerraduta', 'Suplantación',\n",
    "       'Miedo o terror', 'Forcejeo', 'Halado', 'Llamada millonaria',\n",
    "       'Rompimiento de ventana', 'Retención de tarjeta',\n",
    "       'Simulando necesidad', 'Fleteo']"
   ]
  },
  {
   "cell_type": "markdown",
   "metadata": {},
   "source": [
    "Conducta: ['De celular', 'No', 'A taxista', 'Sin dato',\n",
    "       'A bus de servicio público', 'Fleteo', 'Paseo millonario',\n",
    "       'Grupo delincuencial', 'Muerte o lesión de delincuente',\n",
    "       'Vehículo servicio público', 'Violencia contra la mujer',\n",
    "       'Homicidio', 'Secuestro', 'Adulteración']"
   ]
  },
  {
   "cell_type": "markdown",
   "metadata": {},
   "source": [
    "Comuna: [ 4., 16.,  8., 15.,  5., 14.,  7., 10.,  9.,  2., 11.,  6., 12.,\n",
    "        3., 90., 13., 60., 80.,  1., 70., 50.]"
   ]
  },
  {
   "cell_type": "markdown",
   "metadata": {},
   "source": [
    "Lugar: ['Vía pública', 'Estación del Metro', 'Bus de servicio público',\n",
    "       'Vehículo particular', 'Estación del Metro plus', 'Metro Plus',\n",
    "       'Residencia', 'Hotel, motel y hostal', 'Paradero de bus', 'Parque',\n",
    "       'Edificio', 'Casa o apartamento', 'Terminal de transporte',\n",
    "       'Bar o cantina', 'Cementerio', 'Restaurante', 'Turístico',\n",
    "       'Centro comercial', 'Biblioteca', 'Fábrica o empresa',\n",
    "       'Montallanta', 'Corporación', 'Institución de educación superior',\n",
    "       'Estación de gasolina', 'Oficina', 'Parqueadero',\n",
    "       'Almacén tienda y otro', 'Sin dato', 'Escenario deportivo',\n",
    "       'Iglesia', 'Quebrada o rio', 'Hospital o centro de salud',\n",
    "       'Instalación gubernamental', 'Supermercado', 'Plaza de mercado',\n",
    "       'Puente peatonal',\n",
    "       'Institución educativa (jardín, primaria o secundaria)',\n",
    "       'Cafetería', 'Local comercial',\n",
    "       'Sede social, club, auditorio o similar', 'Cajero electrónico',\n",
    "       'Banco', 'Potrero', 'Conjunto residencial', 'Finca', 'Lote baldío',\n",
    "       'Bodega', 'Aeropuerto', 'Billar', 'Reserva natural', 'Panadería',\n",
    "       'Casino', 'Caseta vigilancia conjunto residencial',\n",
    "       'Droguería o farmacia', 'Gimnasio', 'Teatro',\n",
    "       'Caseta de vigilancia empresa', 'Puesto de trabajo', 'Metro',\n",
    "       'Obra en construcción', 'Cárcel', 'Casa de apuesta',\n",
    "       'Zona boscosa', 'Peaje', 'Feria de ganado',\n",
    "       'Instalación fuerza pública', 'Albergue', 'Baño', 'Plaza de toros',\n",
    "       'Matadero, carnicería y similar', 'Café internet']"
   ]
  },
  {
   "cell_type": "markdown",
   "metadata": {},
   "source": [
    "Bien:\n",
    "['Celular', 'Elementos escolares', 'Computador', 'Peso',\n",
    "       'Billetera', 'Cédula', 'Accesorios prendas de vestir', 'Radio',\n",
    "       'Autopartes', 'Salsa', 'Tarjeta bancaria', 'Cámara', 'Gps',\n",
    "       'Tarjeta de comunicación', 'Libreta militar', 'Licencia',\n",
    "       'Equipos varios', 'Llave', 'Ropa exterior', 'Maletín',\n",
    "       'Accesorios celular',\n",
    "       'Electrodoméstico video y audio y accesorios', 'Dólar', 'Euro',\n",
    "       'Carbohidratos y dulces', 'Carne', 'Zapatos', 'Llaveros', 'Soat',\n",
    "       'Repuestos para maquinaria y equipo', 'Elementos computador',\n",
    "       'Tablet', 'Ipod', 'Perfumería', 'Pasaporte',\n",
    "       'Electrodomésticos cocina y limpieza hogar', 'Ventilador',\n",
    "       'Portadocumentos', 'Artículos de aseo personal',\n",
    "       'Tarjeta de identidad', 'Dijes', 'Moneda falsa', 'Insumo médico',\n",
    "       'Casco moto', 'Espejo', 'Paquete de software',\n",
    "       'Articulos electrónica', 'Estuche', 'Sin dato',\n",
    "       'Artículo para video', 'Bono', 'Registro civil',\n",
    "       'Artículos y ropa de cama', 'Revisión técnico mecánica', 'Módem',\n",
    "       'Real brasilero', 'Acciones', 'Sin dato tecnología',\n",
    "       'Medicamentos', 'Sellos', 'Expediente', 'Sin dato documentos',\n",
    "       'Proyector', 'Sin dato joyas', 'Sin dato mercancías', 'Revólver',\n",
    "       'Sin dato munición', 'Sin dato herramientas', 'Cheques',\n",
    "       'Sin dato prendas de vestir', 'Sin dato maquinaria y equipo',\n",
    "       'Máquina', 'Libros', 'Muebles del hogar', 'Pasacintas', 'Placa',\n",
    "       'Automóvil', 'Monitor', 'Libra esterlina inglesa', 'Telas',\n",
    "       'Pistola', 'Frutas y verduras', 'Silla', 'Cdt', 'Escarapela',\n",
    "       'Tarjeta para computador', 'Arma blanca', 'Documentos falsos',\n",
    "       'Antenas', 'Dvd', 'Caja desbloqueo celulares', 'Cd',\n",
    "       'Gato hidráulico', 'Loción', 'Sombrilla', 'Instrumento musical',\n",
    "       'Avión', 'Placa policial', 'Prendas ponal', 'Pistola neumática',\n",
    "       'Oro', 'Contraseña cédula', 'Cargadores', 'Máquina industrial',\n",
    "       'Micrófono', 'Lámpara de alumbrado', 'Registradora',\n",
    "       'Juguete arma bélica', 'Encomiendas', 'Coche para bebe', 'Whiskey',\n",
    "       'Sin dato electrodomésticos', 'Documentación electoral',\n",
    "       'Cuenta de ahorro', 'Bicicleta', 'Boleta', 'Interior',\n",
    "       'Alimentos enlatados y embutidos', 'Carta',\n",
    "       'Prendas cia. Vigilancia', 'Patente', 'Visa', 'Póliza de seguro',\n",
    "       'Termos', 'Datáfono', 'Palma', 'Sin dato títulos valor', 'Escrito',\n",
    "       'Talonario', 'Contrato', 'Papel', 'Taladro',\n",
    "       'Material de construcción', 'Permiso porte de arma', 'Medidor',\n",
    "       'Teléfono satelital', 'Línea telefónica',\n",
    "       'Accesorios de peluquería', 'Aparato médico', 'Morral militar',\n",
    "       'Glucosa', 'Carátula', 'Escritura', 'Plata', 'Otros animales',\n",
    "       'Elementos deportivos', 'Sin dato médico', 'Grabadora', 'Calcio',\n",
    "       'Certificado de gases', 'Archivador', 'Plancha de cabello',\n",
    "       'Plancha', 'Camándulas', 'Bombas', 'Aguardiente', 'Fotografías',\n",
    "       'Sin dato articulos electrónica', 'Bolívar venezolano', 'Manual',\n",
    "       'Cinturón', 'Medicamento trastorno ansiedad y mental', 'Vcd',\n",
    "       'Diario digital', 'Decoración del hogar', 'Venado', 'Lector',\n",
    "       'Joyería', 'Amplificador de sonido', 'Guantes', 'Vitrina',\n",
    "       'Letra de cambio', 'Bota militar', 'Etiquetas', 'Telex',\n",
    "       'Artículos alimenticios', 'Caja fuerte', 'Vacuna', 'Secador',\n",
    "       'Factura', 'Alambre', 'Acid-mantle', 'Toalla',\n",
    "       'Promesa de compraventa', 'Bebidas',\n",
    "       'Medicamento antiinflamatorio', 'Joyero', 'Aceite', 'Adaptador',\n",
    "       'Vodka']"
   ]
  }
 ],
 "metadata": {
  "kernelspec": {
   "display_name": "project",
   "language": "python",
   "name": "python3"
  },
  "language_info": {
   "codemirror_mode": {
    "name": "ipython",
    "version": 3
   },
   "file_extension": ".py",
   "mimetype": "text/x-python",
   "name": "python",
   "nbconvert_exporter": "python",
   "pygments_lexer": "ipython3",
   "version": "3.10.11"
  }
 },
 "nbformat": 4,
 "nbformat_minor": 2
}

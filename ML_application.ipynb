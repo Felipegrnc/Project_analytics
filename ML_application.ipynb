{
 "cells": [
  {
   "cell_type": "code",
   "execution_count": 1,
   "metadata": {},
   "outputs": [],
   "source": [
    "import pandas as pd"
   ]
  },
  {
   "cell_type": "code",
   "execution_count": 2,
   "metadata": {},
   "outputs": [],
   "source": [
    "from data_quality import cargue_datasets_c\n",
    "casos, hurto_tp, mede_victimas, compar = cargue_datasets_c()"
   ]
  },
  {
   "cell_type": "code",
   "execution_count": 3,
   "metadata": {},
   "outputs": [],
   "source": [
    "from data_quality import casos_c\n",
    "casos=casos_c(casos)"
   ]
  },
  {
   "cell_type": "code",
   "execution_count": 4,
   "metadata": {},
   "outputs": [],
   "source": [
    "from data_quality import hurto_tp_c\n",
    "hurto_tp= hurto_tp_c(hurto_tp)"
   ]
  },
  {
   "cell_type": "code",
   "execution_count": 6,
   "metadata": {},
   "outputs": [
    {
     "ename": "TypeError",
     "evalue": "merge() missing 1 required positional argument: 'right'",
     "output_type": "error",
     "traceback": [
      "\u001b[1;31m---------------------------------------------------------------------------\u001b[0m",
      "\u001b[1;31mTypeError\u001b[0m                                 Traceback (most recent call last)",
      "\u001b[1;32mc:\\Users\\asus\\OneDrive - Universidad de la Sabana\\Trabajos Universidad\\Semestre 8\\Proyecto en analítica aplicada\\Proyecto_analitica_aplicada\\ML_application.ipynb Celda 6\u001b[0m line \u001b[0;36m1\n\u001b[1;32m----> <a href='vscode-notebook-cell:/c%3A/Users/asus/OneDrive%20-%20Universidad%20de%20la%20Sabana/Trabajos%20Universidad/Semestre%208/Proyecto%20en%20anal%C3%ADtica%20aplicada/Proyecto_analitica_aplicada/ML_application.ipynb#X41sZmlsZQ%3D%3D?line=0'>1</a>\u001b[0m df \u001b[39m=\u001b[39m pd\u001b[39m.\u001b[39;49mmerge(casos, on\u001b[39m=\u001b[39;49m[\u001b[39m\"\u001b[39;49m\u001b[39mComuna\u001b[39;49m\u001b[39m\"\u001b[39;49m,\u001b[39m\"\u001b[39;49m\u001b[39mAño\u001b[39;49m\u001b[39m\"\u001b[39;49m], how\u001b[39m=\u001b[39;49m\u001b[39m\"\u001b[39;49m\u001b[39minner\u001b[39;49m\u001b[39m\"\u001b[39;49m)\n\u001b[0;32m      <a href='vscode-notebook-cell:/c%3A/Users/asus/OneDrive%20-%20Universidad%20de%20la%20Sabana/Trabajos%20Universidad/Semestre%208/Proyecto%20en%20anal%C3%ADtica%20aplicada/Proyecto_analitica_aplicada/ML_application.ipynb#X41sZmlsZQ%3D%3D?line=1'>2</a>\u001b[0m df \u001b[39m=\u001b[39m pd\u001b[39m.\u001b[39mmerge(df, hurto_tp, on\u001b[39m=\u001b[39m[\u001b[39m\"\u001b[39m\u001b[39mComuna\u001b[39m\u001b[39m\"\u001b[39m,\u001b[39m\"\u001b[39m\u001b[39mAño\u001b[39m\u001b[39m\"\u001b[39m], how\u001b[39m=\u001b[39m\u001b[39m\"\u001b[39m\u001b[39minner\u001b[39m\u001b[39m\"\u001b[39m)\n\u001b[0;32m      <a href='vscode-notebook-cell:/c%3A/Users/asus/OneDrive%20-%20Universidad%20de%20la%20Sabana/Trabajos%20Universidad/Semestre%208/Proyecto%20en%20anal%C3%ADtica%20aplicada/Proyecto_analitica_aplicada/ML_application.ipynb#X41sZmlsZQ%3D%3D?line=2'>3</a>\u001b[0m df \u001b[39m=\u001b[39m pd\u001b[39m.\u001b[39mmerge(df, mede_victimas, on\u001b[39m=\u001b[39m[\u001b[39m\"\u001b[39m\u001b[39mComuna\u001b[39m\u001b[39m\"\u001b[39m,\u001b[39m\"\u001b[39m\u001b[39mAño\u001b[39m\u001b[39m\"\u001b[39m], how\u001b[39m=\u001b[39m\u001b[39m\"\u001b[39m\u001b[39minner\u001b[39m\u001b[39m\"\u001b[39m)\n",
      "\u001b[1;31mTypeError\u001b[0m: merge() missing 1 required positional argument: 'right'"
     ]
    }
   ],
   "source": [
    "#df = pd.merge(casos, on=[\"Comuna\",\"Año\"], how=\"inner\")\n",
    "#df = pd.merge(df, hurto_tp, on=[\"Comuna\",\"Año\"], how=\"inner\")\n",
    "#df = pd.merge(df, mede_victimas, on=[\"Comuna\",\"Año\"], how=\"inner\")\n",
    "#df = pd.merge(df, compar, on=[\"Comuna\",\"Año\"], how=\"inner\")\n",
    "#df"
   ]
  }
 ],
 "metadata": {
  "kernelspec": {
   "display_name": "project",
   "language": "python",
   "name": "python3"
  },
  "language_info": {
   "codemirror_mode": {
    "name": "ipython",
    "version": 3
   },
   "file_extension": ".py",
   "mimetype": "text/x-python",
   "name": "python",
   "nbconvert_exporter": "python",
   "pygments_lexer": "ipython3",
   "version": "3.10.11"
  },
  "orig_nbformat": 4
 },
 "nbformat": 4,
 "nbformat_minor": 2
}

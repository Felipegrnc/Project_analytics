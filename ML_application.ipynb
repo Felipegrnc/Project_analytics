{
 "cells": [
  {
   "cell_type": "code",
   "execution_count": 1,
   "metadata": {},
   "outputs": [],
   "source": [
    "from sklearn.model_selection import train_test_split\n",
    "from sklearn.preprocessing import LabelEncoder\n",
    "from sklearn.linear_model import LogisticRegression\n",
    "from sklearn.metrics import accuracy_score, classification_report\n",
    "from sklearn.tree import DecisionTreeClassifier\n",
    "import pandas as pd\n",
    "import sklearn.metrics\n",
    "from sklearn.tree import DecisionTreeClassifier\n",
    "from sklearn.linear_model import LogisticRegression\n",
    "from sklearn.naive_bayes import GaussianNB\n",
    "from sklearn.ensemble import RandomForestClassifier\n",
    "from sklearn.neighbors import KNeighborsClassifier\n",
    "import numpy as np\n",
    "from sklearn.multioutput import MultiOutputClassifier\n",
    "from sklearn.metrics import hamming_loss, jaccard_score\n",
    "from sklearn.metrics import f1_score"
   ]
  },
  {
   "cell_type": "code",
   "execution_count": 2,
   "metadata": {},
   "outputs": [],
   "source": [
    "from data_quality import cargue_datasets_c\n",
    "casos, hurto_tp, mede_victimas, compar = cargue_datasets_c()\n",
    "hurto_ml = hurto_tp \n",
    "\n",
    "from data_quality import casos_c\n",
    "casos=casos_c(casos)\n",
    "\n",
    "from data_quality import hurto_tp_c\n",
    "hurto_tp= hurto_tp_c(hurto_tp)\n",
    "\n",
    "from data_quality import medevic_c\n",
    "mede_victimas = medevic_c(mede_victimas)"
   ]
  },
  {
   "cell_type": "code",
   "execution_count": 3,
   "metadata": {},
   "outputs": [],
   "source": [
    "# Codificar variables categóricas (como Sexo, Estado_civil, Transporte, Modalidad, Conducta, Comuna, Lugar, Bien)\n",
    "categorical_cols = ['Sexo', 'Estado_civil', 'Transporte', 'Modalidad', 'Conducta', 'Comuna', 'Lugar', 'Bien']\n",
    "label_encoders = {}\n",
    "for col in categorical_cols:\n",
    "    le = LabelEncoder()\n",
    "    hurto_ml[col] = le.fit_transform(hurto_ml[col])\n",
    "    label_encoders[col] = le"
   ]
  },
  {
   "cell_type": "code",
   "execution_count": 4,
   "metadata": {},
   "outputs": [],
   "source": [
    "# Dividir los datos en conjuntos de entrenamiento y prueba\n",
    "X = hurto_ml.drop(['Fecha','Sexo'], axis=1)  # Elimina las columnas\n",
    "y = hurto_ml['Sexo']  # Define tu objetivo, en este caso 'Sexo'\n",
    "\n",
    "X_train, X_test, y_train, y_test = train_test_split(X, y, test_size=0.2, random_state=42)"
   ]
  },
  {
   "cell_type": "code",
   "execution_count": 5,
   "metadata": {},
   "outputs": [],
   "source": [
    "def compare_metrics(learners,X,y,metrics,train_size,repeats):\n",
    "    strlearners=[]\n",
    "    for i in range(0,len(learners)):\n",
    "        strlearners.append(str(learners[i]))  \n",
    "    df=pd.DataFrame(columns=metrics,index=strlearners)\n",
    "    for i in range (0,len(learners)):\n",
    "        for j in range(0,len(metrics)):\n",
    "            scores=[]\n",
    "            for k in range(repeats):\n",
    "                X_train, X_test, y_train, y_test = sklearn.model_selection.train_test_split(X, y, train_size=train_size)\n",
    "                learners[i].fit(X_train,y_train)\n",
    "                y_hat = learners[i].predict(X_test)\n",
    "                y_prob = learners[i].predict_proba(X_test)\n",
    "                if metrics[j]==\"Log loss\":\n",
    "                    scores.append(sklearn.metrics.log_loss(y_test, y_prob))\n",
    "                if metrics[j]==\"Brier Score Loss\":\n",
    "                    scores.append(sklearn.metrics.brier_score_loss(y_test, y_prob[:,1]))\n",
    "                if metrics[j]==\"Accuracy\":\n",
    "                    scores.append(sklearn.metrics.accuracy_score(y_test, y_hat))\n",
    "                if metrics[j]==\"Precision\":\n",
    "                    scores.append(sklearn.metrics.precision_score(y_test, y_hat))\n",
    "                if metrics[j]==\"F1\":\n",
    "                    scores.append(sklearn.metrics.f1_score(y_test, y_hat))\n",
    "                if metrics[j]==\"Recall\":\n",
    "                    scores.append(sklearn.metrics.recall_score(y_test, y_hat))\n",
    "                if metrics[j]==\"Auroc\":\n",
    "                    scores.append(sklearn.metrics.roc_auc_score(y_test, y_prob[:,1]))\n",
    "            df.iloc[i,j]=np.mean(scores)\n",
    "    return df"
   ]
  },
  {
   "cell_type": "code",
   "execution_count": 6,
   "metadata": {},
   "outputs": [],
   "source": [
    "metricas=[\"Log loss\",\"Brier Score Loss\",\"Accuracy\",\"Precision\",\"F1\",\"Recall\",\"Auroc\"]\n",
    "decision_tree=DecisionTreeClassifier()\n",
    "naive_bayes=GaussianNB()\n",
    "kNN=KNeighborsClassifier()\n",
    "log_regression = LogisticRegression()\n",
    "RandomForest = RandomForestClassifier()\n",
    "elearn=[decision_tree,naive_bayes,kNN,log_regression,RandomForest]"
   ]
  },
  {
   "cell_type": "code",
   "execution_count": 7,
   "metadata": {},
   "outputs": [],
   "source": [
    "#hurto_ml_scores  = compare_metrics(elearn,X,y,metricas,0.8,20)\n",
    "#hurto_ml_scores"
   ]
  },
  {
   "cell_type": "markdown",
   "metadata": {},
   "source": [
    "##### Multietiqueta"
   ]
  },
  {
   "cell_type": "code",
   "execution_count": 23,
   "metadata": {},
   "outputs": [],
   "source": [
    "bins = [-1, 12, 18, 30, 60, float('inf')]\n",
    "labels = ['Niño', 'Adolescente', 'Adulto joven', 'Adulto', 'Adulto mayor']\n",
    "\n",
    "# Utiliza pd.cut para crear los intervalos y asignar las etiquetas\n",
    "hurto_ml['grupo_edad'] = pd.cut(hurto_ml['Edad'], bins=bins, labels=labels, right=False)"
   ]
  },
  {
   "cell_type": "code",
   "execution_count": 20,
   "metadata": {},
   "outputs": [],
   "source": [
    "categorical_cols = ['grupo_edad']\n",
    "label_encoders = {}\n",
    "for col in categorical_cols:\n",
    "    le = LabelEncoder()\n",
    "    hurto_ml[col] = le.fit_transform(hurto_ml[col])\n",
    "    label_encoders[col] = le"
   ]
  },
  {
   "cell_type": "code",
   "execution_count": 10,
   "metadata": {},
   "outputs": [
    {
     "name": "stdout",
     "output_type": "stream",
     "text": [
      "0.804208065458796\n"
     ]
    }
   ],
   "source": [
    "# Dividir el conjunto de datos en características (X) y etiquetas (y)\n",
    "X = hurto_ml.drop(['Fecha', 'grupo_edad', 'Sexo','Edad'], axis=1)\n",
    "y = list(zip(hurto_ml['grupo_edad'],hurto_ml['Sexo']))\n",
    "\n",
    "# Dividir el conjunto de datos en conjuntos de entrenamiento y prueba\n",
    "X_train, X_test, y_train, y_test = train_test_split(X, y, test_size=0.2, random_state=42)\n",
    "\n",
    "# Crear un clasificador multi-etiqueta (por ejemplo, Random Forest)\n",
    "classifier = MultiOutputClassifier(RandomForestClassifier(n_estimators=100, random_state=42))\n",
    "\n",
    "# Entrenar el modelo\n",
    "classifier.fit(X_train, y_train)\n",
    "\n",
    "# Realizar predicciones en el conjunto de prueba\n",
    "y_pred = classifier.predict(X_test)\n",
    "\n",
    "# Evaluar el rendimiento del modelo\n",
    "print(classifier.score(X_train, np.array(y_train)))"
   ]
  },
  {
   "cell_type": "code",
   "execution_count": 52,
   "metadata": {},
   "outputs": [
    {
     "data": {
      "text/html": [
       "<div>\n",
       "<style scoped>\n",
       "    .dataframe tbody tr th:only-of-type {\n",
       "        vertical-align: middle;\n",
       "    }\n",
       "\n",
       "    .dataframe tbody tr th {\n",
       "        vertical-align: top;\n",
       "    }\n",
       "\n",
       "    .dataframe thead th {\n",
       "        text-align: right;\n",
       "    }\n",
       "</style>\n",
       "<table border=\"1\" class=\"dataframe\">\n",
       "  <thead>\n",
       "    <tr style=\"text-align: right;\">\n",
       "      <th></th>\n",
       "      <th>Estado_civil</th>\n",
       "      <th>Transporte</th>\n",
       "      <th>Modalidad</th>\n",
       "      <th>Conducta</th>\n",
       "      <th>Comuna</th>\n",
       "      <th>Lugar</th>\n",
       "      <th>Bien</th>\n",
       "      <th>Año</th>\n",
       "    </tr>\n",
       "  </thead>\n",
       "  <tbody>\n",
       "    <tr>\n",
       "      <th>1144</th>\n",
       "      <td>3</td>\n",
       "      <td>0</td>\n",
       "      <td>3</td>\n",
       "      <td>11</td>\n",
       "      <td>4</td>\n",
       "      <td>66</td>\n",
       "      <td>43</td>\n",
       "      <td>2017</td>\n",
       "    </tr>\n",
       "    <tr>\n",
       "      <th>19335</th>\n",
       "      <td>3</td>\n",
       "      <td>1</td>\n",
       "      <td>3</td>\n",
       "      <td>11</td>\n",
       "      <td>9</td>\n",
       "      <td>24</td>\n",
       "      <td>43</td>\n",
       "      <td>2021</td>\n",
       "    </tr>\n",
       "    <tr>\n",
       "      <th>19629</th>\n",
       "      <td>3</td>\n",
       "      <td>2</td>\n",
       "      <td>0</td>\n",
       "      <td>11</td>\n",
       "      <td>9</td>\n",
       "      <td>4</td>\n",
       "      <td>43</td>\n",
       "      <td>2021</td>\n",
       "    </tr>\n",
       "    <tr>\n",
       "      <th>4630</th>\n",
       "      <td>3</td>\n",
       "      <td>0</td>\n",
       "      <td>0</td>\n",
       "      <td>8</td>\n",
       "      <td>9</td>\n",
       "      <td>69</td>\n",
       "      <td>128</td>\n",
       "      <td>2014</td>\n",
       "    </tr>\n",
       "    <tr>\n",
       "      <th>10628</th>\n",
       "      <td>3</td>\n",
       "      <td>0</td>\n",
       "      <td>3</td>\n",
       "      <td>11</td>\n",
       "      <td>15</td>\n",
       "      <td>44</td>\n",
       "      <td>43</td>\n",
       "      <td>2019</td>\n",
       "    </tr>\n",
       "    <tr>\n",
       "      <th>...</th>\n",
       "      <td>...</td>\n",
       "      <td>...</td>\n",
       "      <td>...</td>\n",
       "      <td>...</td>\n",
       "      <td>...</td>\n",
       "      <td>...</td>\n",
       "      <td>...</td>\n",
       "      <td>...</td>\n",
       "    </tr>\n",
       "    <tr>\n",
       "      <th>21575</th>\n",
       "      <td>0</td>\n",
       "      <td>1</td>\n",
       "      <td>3</td>\n",
       "      <td>11</td>\n",
       "      <td>9</td>\n",
       "      <td>27</td>\n",
       "      <td>43</td>\n",
       "      <td>2022</td>\n",
       "    </tr>\n",
       "    <tr>\n",
       "      <th>5390</th>\n",
       "      <td>4</td>\n",
       "      <td>2</td>\n",
       "      <td>0</td>\n",
       "      <td>4</td>\n",
       "      <td>4</td>\n",
       "      <td>69</td>\n",
       "      <td>128</td>\n",
       "      <td>2015</td>\n",
       "    </tr>\n",
       "    <tr>\n",
       "      <th>860</th>\n",
       "      <td>3</td>\n",
       "      <td>0</td>\n",
       "      <td>3</td>\n",
       "      <td>11</td>\n",
       "      <td>13</td>\n",
       "      <td>44</td>\n",
       "      <td>43</td>\n",
       "      <td>2017</td>\n",
       "    </tr>\n",
       "    <tr>\n",
       "      <th>15795</th>\n",
       "      <td>3</td>\n",
       "      <td>1</td>\n",
       "      <td>3</td>\n",
       "      <td>11</td>\n",
       "      <td>9</td>\n",
       "      <td>27</td>\n",
       "      <td>53</td>\n",
       "      <td>2018</td>\n",
       "    </tr>\n",
       "    <tr>\n",
       "      <th>23654</th>\n",
       "      <td>4</td>\n",
       "      <td>0</td>\n",
       "      <td>12</td>\n",
       "      <td>11</td>\n",
       "      <td>9</td>\n",
       "      <td>44</td>\n",
       "      <td>25</td>\n",
       "      <td>2022</td>\n",
       "    </tr>\n",
       "  </tbody>\n",
       "</table>\n",
       "<p>20532 rows × 8 columns</p>\n",
       "</div>"
      ],
      "text/plain": [
       "       Estado_civil  Transporte  Modalidad  Conducta  Comuna  Lugar  Bien  \\\n",
       "1144              3           0          3        11       4     66    43   \n",
       "19335             3           1          3        11       9     24    43   \n",
       "19629             3           2          0        11       9      4    43   \n",
       "4630              3           0          0         8       9     69   128   \n",
       "10628             3           0          3        11      15     44    43   \n",
       "...             ...         ...        ...       ...     ...    ...   ...   \n",
       "21575             0           1          3        11       9     27    43   \n",
       "5390              4           2          0         4       4     69   128   \n",
       "860               3           0          3        11      13     44    43   \n",
       "15795             3           1          3        11       9     27    53   \n",
       "23654             4           0         12        11       9     44    25   \n",
       "\n",
       "        Año  \n",
       "1144   2017  \n",
       "19335  2021  \n",
       "19629  2021  \n",
       "4630   2014  \n",
       "10628  2019  \n",
       "...     ...  \n",
       "21575  2022  \n",
       "5390   2015  \n",
       "860    2017  \n",
       "15795  2018  \n",
       "23654  2022  \n",
       "\n",
       "[20532 rows x 8 columns]"
      ]
     },
     "execution_count": 52,
     "metadata": {},
     "output_type": "execute_result"
    }
   ],
   "source": [
    "X_train"
   ]
  },
  {
   "cell_type": "code",
   "execution_count": 54,
   "metadata": {},
   "outputs": [],
   "source": [
    "B_grupo_edad = {1:'Adulto', 2:'Adulto joven',3:'Adulto mayor',0:'Adolescente',4:'Niño'}\n",
    "B_genero = {0:'Hombre', 1:'Mujer'}"
   ]
  },
  {
   "cell_type": "code",
   "execution_count": 58,
   "metadata": {},
   "outputs": [
    {
     "name": "stdout",
     "output_type": "stream",
     "text": [
      "Género predicción: Hombre \n",
      " Grupo edad predicción: Adulto\n"
     ]
    },
    {
     "name": "stderr",
     "output_type": "stream",
     "text": [
      "c:\\Users\\Asus\\miniconda3\\envs\\project\\lib\\site-packages\\sklearn\\base.py:465: UserWarning: X does not have valid feature names, but RandomForestClassifier was fitted with feature names\n",
      "  warnings.warn(\n",
      "c:\\Users\\Asus\\miniconda3\\envs\\project\\lib\\site-packages\\sklearn\\base.py:465: UserWarning: X does not have valid feature names, but RandomForestClassifier was fitted with feature names\n",
      "  warnings.warn(\n"
     ]
    }
   ],
   "source": [
    "test = [(1,2,3,11,13,66,43,2033)]\n",
    "y_pred = classifier.predict(test)\n",
    "\n",
    "print('Género predicción:', B_genero[y_pred[0, 1]],'\\n','Grupo edad predicción:', B_grupo_edad[y_pred[0, 0]])"
   ]
  }
 ],
 "metadata": {
  "kernelspec": {
   "display_name": "project",
   "language": "python",
   "name": "python3"
  },
  "language_info": {
   "codemirror_mode": {
    "name": "ipython",
    "version": 3
   },
   "file_extension": ".py",
   "mimetype": "text/x-python",
   "name": "python",
   "nbconvert_exporter": "python",
   "pygments_lexer": "ipython3",
   "version": "3.10.12"
  },
  "orig_nbformat": 4
 },
 "nbformat": 4,
 "nbformat_minor": 2
}

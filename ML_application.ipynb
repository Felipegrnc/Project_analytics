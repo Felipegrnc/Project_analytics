{
 "cells": [
  {
   "cell_type": "code",
   "execution_count": 1,
   "metadata": {},
   "outputs": [],
   "source": [
    "from sklearn.model_selection import train_test_split\n",
    "from sklearn.preprocessing import LabelEncoder\n",
    "from sklearn.linear_model import LogisticRegression\n",
    "from sklearn.metrics import accuracy_score\n",
    "from sklearn.tree import DecisionTreeClassifier\n",
    "import pandas as pd\n",
    "import sklearn.metrics\n",
    "from sklearn.tree import DecisionTreeClassifier\n",
    "from sklearn.linear_model import LogisticRegression\n",
    "from sklearn.naive_bayes import GaussianNB\n",
    "from sklearn.ensemble import RandomForestClassifier\n",
    "from sklearn.neighbors import KNeighborsClassifier\n",
    "from kmodes.kmodes import KModes\n",
    "import numpy as np"
   ]
  },
  {
   "cell_type": "code",
   "execution_count": 2,
   "metadata": {},
   "outputs": [],
   "source": [
    "from data_quality import cargue_datasets_c\n",
    "casos, hurto_tp, mede_victimas, compar = cargue_datasets_c()"
   ]
  },
  {
   "cell_type": "code",
   "execution_count": 3,
   "metadata": {},
   "outputs": [],
   "source": [
    "casos_b=casos\n",
    "hurto_tp_b=hurto_tp\n",
    "mede_victimas_b=mede_victimas\n",
    "compar_b=compar\n",
    "\n",
    "from data_quality import casos_c\n",
    "casos=casos_c(casos)\n",
    "\n",
    "from data_quality import hurto_tp_c\n",
    "hurto_tp= hurto_tp_c(hurto_tp)\n",
    "\n",
    "from data_quality import medevic_c\n",
    "mede_victimas = medevic_c(mede_victimas)"
   ]
  },
  {
   "cell_type": "code",
   "execution_count": 4,
   "metadata": {},
   "outputs": [],
   "source": [
    "df = pd.concat([casos_b, hurto_tp_b], axis=0)\n",
    "df = df.reset_index(drop=True)"
   ]
  },
  {
   "cell_type": "code",
   "execution_count": 6,
   "metadata": {},
   "outputs": [],
   "source": [
    "columnas_a_eliminar = ['Fecha']\n",
    "\n",
    "df.drop(columnas_a_eliminar, axis=1, inplace=True)"
   ]
  },
  {
   "cell_type": "code",
   "execution_count": 7,
   "metadata": {},
   "outputs": [],
   "source": [
    "km = KModes(n_clusters=5, init=\"Huang\", n_init=10,verbose=1)"
   ]
  },
  {
   "cell_type": "code",
   "execution_count": 8,
   "metadata": {},
   "outputs": [],
   "source": [
    "df.fillna(\"Desconocido\", inplace = True)"
   ]
  },
  {
   "cell_type": "code",
   "execution_count": 9,
   "metadata": {},
   "outputs": [],
   "source": [
    "df=df.astype(str)"
   ]
  },
  {
   "cell_type": "code",
   "execution_count": 10,
   "metadata": {},
   "outputs": [
    {
     "name": "stdout",
     "output_type": "stream",
     "text": [
      "Init: initializing centroids\n",
      "Init: initializing clusters\n",
      "Starting iterations...\n",
      "Run 1, iteration: 1/100, moves: 11229, cost: 125592.0\n",
      "Run 1, iteration: 2/100, moves: 2130, cost: 125072.0\n",
      "Run 1, iteration: 3/100, moves: 0, cost: 125072.0\n",
      "Init: initializing centroids\n",
      "Init: initializing clusters\n",
      "Starting iterations...\n",
      "Run 2, iteration: 1/100, moves: 7085, cost: 139377.0\n",
      "Run 2, iteration: 2/100, moves: 1194, cost: 139377.0\n",
      "Init: initializing centroids\n",
      "Init: initializing clusters\n",
      "Starting iterations...\n",
      "Run 3, iteration: 1/100, moves: 5406, cost: 139055.0\n",
      "Run 3, iteration: 2/100, moves: 85, cost: 139055.0\n",
      "Init: initializing centroids\n",
      "Init: initializing clusters\n",
      "Starting iterations...\n",
      "Run 4, iteration: 1/100, moves: 8890, cost: 139934.0\n",
      "Run 4, iteration: 2/100, moves: 518, cost: 139934.0\n",
      "Init: initializing centroids\n",
      "Init: initializing clusters\n",
      "Starting iterations...\n",
      "Run 5, iteration: 1/100, moves: 11308, cost: 139874.0\n",
      "Run 5, iteration: 2/100, moves: 2826, cost: 138059.0\n",
      "Run 5, iteration: 3/100, moves: 157, cost: 138059.0\n",
      "Init: initializing centroids\n",
      "Init: initializing clusters\n",
      "Starting iterations...\n",
      "Run 6, iteration: 1/100, moves: 10632, cost: 136827.0\n",
      "Run 6, iteration: 2/100, moves: 1781, cost: 136580.0\n",
      "Run 6, iteration: 3/100, moves: 93, cost: 136580.0\n",
      "Init: initializing centroids\n",
      "Init: initializing clusters\n",
      "Starting iterations...\n",
      "Run 7, iteration: 1/100, moves: 13823, cost: 127864.0\n",
      "Run 7, iteration: 2/100, moves: 5297, cost: 125706.0\n",
      "Run 7, iteration: 3/100, moves: 168, cost: 125706.0\n",
      "Init: initializing centroids\n",
      "Init: initializing clusters\n",
      "Starting iterations...\n",
      "Run 8, iteration: 1/100, moves: 9036, cost: 127889.0\n",
      "Run 8, iteration: 2/100, moves: 3909, cost: 125406.0\n",
      "Run 8, iteration: 3/100, moves: 14, cost: 125406.0\n",
      "Init: initializing centroids\n",
      "Init: initializing clusters\n",
      "Starting iterations...\n",
      "Run 9, iteration: 1/100, moves: 11117, cost: 139477.0\n",
      "Run 9, iteration: 2/100, moves: 1925, cost: 139375.0\n",
      "Run 9, iteration: 3/100, moves: 99, cost: 139375.0\n",
      "Init: initializing centroids\n",
      "Init: initializing clusters\n",
      "Starting iterations...\n",
      "Run 10, iteration: 1/100, moves: 8925, cost: 139775.0\n",
      "Run 10, iteration: 2/100, moves: 3046, cost: 139775.0\n",
      "Best run was number 1\n"
     ]
    }
   ],
   "source": [
    "clusters= km.fit_predict(df)"
   ]
  },
  {
   "cell_type": "code",
   "execution_count": 11,
   "metadata": {},
   "outputs": [
    {
     "name": "stdout",
     "output_type": "stream",
     "text": [
      "Centroides de los clusters\n",
      "[['2017' 'Homicidio' '13.0' '2.0' 'Desconocido' 'Desconocido'\n",
      "  'Desconocido' 'Desconocido' 'Desconocido' 'Desconocido' 'Desconocido']\n",
      " ['2019' 'Sin dato' '10.0' 'Desconocido' 'Mujer' '25.0' 'Soltero(a)'\n",
      "  'Autobus' 'Cosquilleo' 'Bus de servicio público' 'Celular']\n",
      " ['2017' 'Sin dato' '10.0' 'Desconocido' 'Hombre' '28.0' 'Soltero(a)'\n",
      "  'Taxi' 'Atraco' 'Vía pública' 'Peso']\n",
      " ['2018' 'De celular' '10.0' 'Desconocido' 'Hombre' '35.0' 'Soltero(a)'\n",
      "  'Taxi' 'Atraco' 'Bus de servicio público' 'Celular']\n",
      " ['2022' 'Sin dato' '10.0' 'Desconocido' 'Hombre' '24.0' 'Soltero(a)'\n",
      "  'Metro' 'Cosquilleo' 'Estación del Metro' 'Celular']]\n",
      "Clusters asignados a cada punto de datos:\n",
      "[0 0 0 ... 2 4 4]\n"
     ]
    }
   ],
   "source": [
    "print(\"Centroides de los clusters\")\n",
    "print(km.cluster_centroids_)\n",
    "print(\"Clusters asignados a cada punto de datos:\")\n",
    "print(clusters)"
   ]
  },
  {
   "cell_type": "code",
   "execution_count": 16,
   "metadata": {},
   "outputs": [],
   "source": [
    "import matplotlib.pyplot as plt\n",
    "from prince import MCA"
   ]
  },
  {
   "cell_type": "code",
   "execution_count": 20,
   "metadata": {},
   "outputs": [
    {
     "data": {
      "text/plain": [
       "['Año',\n",
       " 'Conducta',\n",
       " 'Comuna',\n",
       " 'Cantidad_casos',\n",
       " 'Sexo',\n",
       " 'Edad',\n",
       " 'Estado_civil',\n",
       " 'Transporte',\n",
       " 'Modalidad',\n",
       " 'Lugar',\n",
       " 'Bien']"
      ]
     },
     "execution_count": 20,
     "metadata": {},
     "output_type": "execute_result"
    }
   ],
   "source": [
    "df.columns.tolist()"
   ]
  },
  {
   "cell_type": "code",
   "execution_count": 19,
   "metadata": {},
   "outputs": [
    {
     "name": "stdout",
     "output_type": "stream",
     "text": [
      "Init: initializing centroids\n",
      "Init: initializing clusters\n",
      "Starting iterations...\n",
      "Run 1, iteration: 1/100, moves: 11012, cost: 143840.0\n",
      "Run 1, iteration: 2/100, moves: 3918, cost: 142420.0\n",
      "Run 1, iteration: 3/100, moves: 102, cost: 142420.0\n",
      "Init: initializing centroids\n",
      "Init: initializing clusters\n",
      "Starting iterations...\n",
      "Run 2, iteration: 1/100, moves: 11342, cost: 142332.0\n",
      "Run 2, iteration: 2/100, moves: 865, cost: 142332.0\n",
      "Init: initializing centroids\n",
      "Init: initializing clusters\n",
      "Starting iterations...\n",
      "Run 3, iteration: 1/100, moves: 6389, cost: 150328.0\n",
      "Run 3, iteration: 2/100, moves: 0, cost: 150328.0\n",
      "Init: initializing centroids\n",
      "Init: initializing clusters\n",
      "Starting iterations...\n",
      "Run 4, iteration: 1/100, moves: 6344, cost: 153079.0\n",
      "Run 4, iteration: 2/100, moves: 39, cost: 153079.0\n",
      "Init: initializing centroids\n",
      "Init: initializing clusters\n",
      "Starting iterations...\n",
      "Run 5, iteration: 1/100, moves: 6330, cost: 149335.0\n",
      "Run 5, iteration: 2/100, moves: 5867, cost: 142371.0\n",
      "Run 5, iteration: 3/100, moves: 2156, cost: 142288.0\n",
      "Run 5, iteration: 4/100, moves: 47, cost: 142288.0\n",
      "Best run was number 5\n"
     ]
    },
    {
     "data": {
      "image/png": "[encoded data removed]",
      "text/plain": [
       "<Figure size 640x480 with 1 Axes>"
      ]
     },
     "metadata": {},
     "output_type": "display_data"
    }
   ],
   "source": [
    "km = KModes(n_clusters=3, init='Huang', n_init=5, verbose=1)\n",
    "\n",
    "# Ajustar el modelo a los datos\n",
    "clusters = km.fit_predict(df)\n",
    "\n",
    "# Aplicar MCA para visualizar los clusters en un espacio de menor dimensión\n",
    "mca = MCA()\n",
    "data_mca = mca.fit_transform(df)\n",
    "\n",
    "# Graficar los clusters en un gráfico bidimensional\n",
    "plt.scatter(data_mca.values[:, 0], data_mca.values[:, 1], c=clusters, cmap='viridis')\n",
    "plt.title('Visualización de Clusters con MCA')\n",
    "plt.show()"
   ]
  }
 ],
 "metadata": {
  "kernelspec": {
   "display_name": "project",
   "language": "python",
   "name": "python3"
  },
  "language_info": {
   "codemirror_mode": {
    "name": "ipython",
    "version": 3
   },
   "file_extension": ".py",
   "mimetype": "text/x-python",
   "name": "python",
   "nbconvert_exporter": "python",
   "pygments_lexer": "ipython3",
   "version": "3.10.11"
  },
  "orig_nbformat": 4
 },
 "nbformat": 4,
 "nbformat_minor": 2
}

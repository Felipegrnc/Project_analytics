{
 "cells": [
  {
   "cell_type": "code",
   "execution_count": 1,
   "metadata": {},
   "outputs": [],
   "source": [
    "from sklearn.model_selection import train_test_split\n",
    "from sklearn.preprocessing import LabelEncoder\n",
    "from sklearn.linear_model import LogisticRegression\n",
    "from sklearn.tree import DecisionTreeClassifier\n",
    "import pandas as pd\n",
    "import sklearn.metrics\n",
    "from sklearn.tree import DecisionTreeClassifier\n",
    "from sklearn.linear_model import LogisticRegression\n",
    "from sklearn.naive_bayes import GaussianNB\n",
    "from sklearn.ensemble import RandomForestClassifier\n",
    "from sklearn.neighbors import KNeighborsClassifier\n",
    "import numpy as np\n",
    "from sklearn.multioutput import MultiOutputClassifier\n",
    "from sklearn.metrics import hamming_loss, jaccard_score\n",
    "from sklearn.metrics import f1_score\n",
    "from sklearn.metrics import confusion_matrix, ConfusionMatrixDisplay\n",
    "import matplotlib.pyplot as plt\n",
    "from kmodes.kmodes import KModes"
   ]
  },
  {
   "cell_type": "code",
   "execution_count": 2,
   "metadata": {},
   "outputs": [],
   "source": [
    "from data_quality import cargue_datasets_c\n",
    "casos, hurto_tp, mede_victimas, compar = cargue_datasets_c()\n",
    "hurto_ml = hurto_tp \n",
    "df1 = hurto_tp \n",
    "\n",
    "from data_quality import casos_c\n",
    "casos=casos_c(casos)\n",
    "\n",
    "from data_quality import hurto_tp_c\n",
    "#hurto_tp= hurto_tp_c(hurto_tp)\n",
    "\n",
    "from data_quality import medevic_c\n",
    "mede_victimas = medevic_c(mede_victimas)"
   ]
  },
  {
   "cell_type": "code",
   "execution_count": 3,
   "metadata": {},
   "outputs": [],
   "source": [
    "df1 = df1.drop(['Fecha','Sexo','Edad','Año'], axis=1)"
   ]
  },
  {
   "cell_type": "code",
   "execution_count": 2,
   "metadata": {},
   "outputs": [
    {
     "name": "stdout",
     "output_type": "stream",
     "text": [
      "Init: initializing centroids\n",
      "Init: initializing clusters\n",
      "Starting iterations...\n",
      "Run 1, iteration: 1/100, moves: 2808, cost: 72606.0\n",
      "Init: initializing centroids\n",
      "Init: initializing clusters\n",
      "Starting iterations...\n",
      "Run 2, iteration: 1/100, moves: 9852, cost: 65827.0\n",
      "Run 2, iteration: 2/100, moves: 2606, cost: 65827.0\n",
      "Init: initializing centroids\n",
      "Init: initializing clusters\n",
      "Starting iterations...\n",
      "Run 3, iteration: 1/100, moves: 8345, cost: 65827.0\n",
      "Run 3, iteration: 2/100, moves: 575, cost: 65827.0\n",
      "Init: initializing centroids\n",
      "Init: initializing clusters\n",
      "Starting iterations...\n",
      "Run 4, iteration: 1/100, moves: 7074, cost: 68335.0\n",
      "Run 4, iteration: 2/100, moves: 4673, cost: 66282.0\n",
      "Run 4, iteration: 3/100, moves: 1213, cost: 66282.0\n",
      "Init: initializing centroids\n",
      "Init: initializing clusters\n",
      "Starting iterations...\n",
      "Run 5, iteration: 1/100, moves: 2679, cost: 73939.0\n",
      "Init: initializing centroids\n",
      "Init: initializing clusters\n",
      "Starting iterations...\n",
      "Run 6, iteration: 1/100, moves: 8786, cost: 66282.0\n",
      "Init: initializing centroids\n",
      "Init: initializing clusters\n",
      "Starting iterations...\n",
      "Run 7, iteration: 1/100, moves: 6806, cost: 67762.0\n",
      "Run 7, iteration: 2/100, moves: 5598, cost: 65827.0\n",
      "Run 7, iteration: 3/100, moves: 855, cost: 65827.0\n",
      "Init: initializing centroids\n",
      "Init: initializing clusters\n",
      "Starting iterations...\n",
      "Run 8, iteration: 1/100, moves: 7776, cost: 65827.0\n",
      "Run 8, iteration: 2/100, moves: 310, cost: 65827.0\n",
      "Init: initializing centroids\n",
      "Init: initializing clusters\n",
      "Starting iterations...\n",
      "Run 9, iteration: 1/100, moves: 6402, cost: 65827.0\n",
      "Init: initializing centroids\n",
      "Init: initializing clusters\n",
      "Starting iterations...\n",
      "Run 10, iteration: 1/100, moves: 2682, cost: 74913.0\n",
      "Run 10, iteration: 2/100, moves: 2020, cost: 74913.0\n",
      "Best run was number 2\n",
      "Centroides de los clusters\n",
      "[['Soltero(a)' 'Taxi' 'Atraco' 'Sin dato' '10.0' 'Vía pública' 'Celular']\n",
      " ['Soltero(a)' 'Metro' 'Cosquilleo' 'Sin dato' '10.0'\n",
      "  'Estación del Metro' 'Celular']\n",
      " ['Soltero(a)' 'Autobus' 'Cosquilleo' 'Sin dato' '10.0'\n",
      "  'Bus de servicio público' 'Celular']]\n",
      "Clusters asignados a cada punto de datos:\n",
      "[0 0 0 ... 0 1 1]\n"
     ]
    }
   ],
   "source": [
    "km = KModes(n_clusters=3, init=\"Huang\", n_init=10,verbose=1)\n",
    "df1.fillna(\"Desconocido\", inplace = True)\n",
    "df1 = df1.astype(str)\n",
    "clusters= km.fit_predict(df1)\n",
    "\n",
    "print(\"Centroides de los clusters\")\n",
    "print(km.cluster_centroids_)\n",
    "print(\"Clusters asignados a cada punto de datos:\")\n",
    "print(clusters)"
   ]
  },
  {
   "cell_type": "code",
   "execution_count": 5,
   "metadata": {},
   "outputs": [],
   "source": [
    "# Codificar variables categóricas (como Sexo, Estado_civil, Transporte, Modalidad, Conducta, Comuna, Lugar, Bien)\n",
    "categorical_cols = ['Sexo', 'Estado_civil', 'Transporte', 'Modalidad', 'Conducta', 'Comuna', 'Lugar', 'Bien']\n",
    "label_encoders = {}\n",
    "n=0\n",
    "for col in categorical_cols:\n",
    "    le = LabelEncoder()\n",
    "    hurto_ml[col] = le.fit_transform(hurto_ml[col])\n",
    "    label_encoders[col] = le\n",
    "    n = n+1\n",
    "    if n == 1:\n",
    "        genero = label_encoders[col]\n",
    "    if n == 2:\n",
    "        estado_civil = label_encoders[col]\n",
    "    if n == 3:\n",
    "        transporte = label_encoders[col]\n",
    "    if n == 4:\n",
    "        modalidad = label_encoders[col]\n",
    "    if n == 5:\n",
    "        conducta = label_encoders[col]\n",
    "    if n == 6:\n",
    "        comuna = label_encoders[col]\n",
    "    if n == 7:\n",
    "        lugar = label_encoders[col]\n",
    "    if n == 8:\n",
    "        bien = label_encoders[col]"
   ]
  },
  {
   "cell_type": "code",
   "execution_count": 6,
   "metadata": {},
   "outputs": [],
   "source": [
    "# Dividir los datos en conjuntos de entrenamiento y prueba\n",
    "X = hurto_ml.drop(['Fecha','Sexo'], axis=1)  # Elimina las columnas\n",
    "y = hurto_ml['Sexo']  # Define tu objetivo, en este caso 'Sexo'\n",
    "\n",
    "X_train, X_test, y_train, y_test = train_test_split(X, y, test_size=0.2, random_state=42)"
   ]
  },
  {
   "cell_type": "code",
   "execution_count": 16,
   "metadata": {},
   "outputs": [],
   "source": [
    "km = KModes(n_clusters=3, init=\"Huang\", n_init=10,verbose=1)"
   ]
  },
  {
   "cell_type": "code",
   "execution_count": 17,
   "metadata": {},
   "outputs": [],
   "source": [
    "df.fillna(\"Desconocido\", inplace = True)"
   ]
  },
  {
   "cell_type": "code",
   "execution_count": 18,
   "metadata": {},
   "outputs": [],
   "source": [
    "df=df.astype(str)"
   ]
  },
  {
   "cell_type": "code",
   "execution_count": 19,
   "metadata": {},
   "outputs": [
    {
     "name": "stdout",
     "output_type": "stream",
     "text": [
      "Init: initializing centroids\n",
      "Init: initializing clusters\n",
      "Starting iterations...\n",
      "Run 1, iteration: 1/100, moves: 10332, cost: 121332.0\n",
      "Run 1, iteration: 2/100, moves: 5236, cost: 118583.0\n",
      "Run 1, iteration: 3/100, moves: 532, cost: 118583.0\n",
      "Init: initializing centroids\n",
      "Init: initializing clusters\n",
      "Starting iterations...\n",
      "Run 2, iteration: 1/100, moves: 9995, cost: 118355.0\n",
      "Run 2, iteration: 2/100, moves: 1741, cost: 118355.0\n",
      "Init: initializing centroids\n",
      "Init: initializing clusters\n",
      "Starting iterations...\n",
      "Run 3, iteration: 1/100, moves: 5590, cost: 133325.0\n",
      "Init: initializing centroids\n",
      "Init: initializing clusters\n",
      "Starting iterations...\n",
      "Run 4, iteration: 1/100, moves: 7668, cost: 118393.0\n",
      "Run 4, iteration: 2/100, moves: 1148, cost: 118393.0\n",
      "Init: initializing centroids\n",
      "Init: initializing clusters\n",
      "Starting iterations...\n",
      "Run 5, iteration: 1/100, moves: 7364, cost: 118501.0\n",
      "Run 5, iteration: 2/100, moves: 214, cost: 118501.0\n",
      "Init: initializing centroids\n",
      "Init: initializing clusters\n",
      "Starting iterations...\n",
      "Run 6, iteration: 1/100, moves: 7865, cost: 122802.0\n",
      "Run 6, iteration: 2/100, moves: 439, cost: 122802.0\n",
      "Init: initializing centroids\n",
      "Init: initializing clusters\n",
      "Starting iterations...\n",
      "Run 7, iteration: 1/100, moves: 9983, cost: 118654.0\n",
      "Run 7, iteration: 2/100, moves: 1894, cost: 118654.0\n",
      "Init: initializing centroids\n",
      "Init: initializing clusters\n",
      "Starting iterations...\n",
      "Run 8, iteration: 1/100, moves: 10577, cost: 118430.0\n",
      "Run 8, iteration: 2/100, moves: 1901, cost: 118430.0\n",
      "Init: initializing centroids\n",
      "Init: initializing clusters\n",
      "Starting iterations...\n",
      "Run 9, iteration: 1/100, moves: 9600, cost: 127608.0\n",
      "Run 9, iteration: 2/100, moves: 1728, cost: 127608.0\n",
      "Init: initializing centroids\n",
      "Init: initializing clusters\n",
      "Starting iterations...\n",
      "Run 10, iteration: 1/100, moves: 6651, cost: 118355.0\n",
      "Run 10, iteration: 2/100, moves: 59, cost: 118355.0\n",
      "Best run was number 2\n"
     ]
    }
   ],
   "source": [
    "clusters= km.fit_predict(df)"
   ]
  },
  {
   "cell_type": "code",
   "execution_count": 20,
   "metadata": {},
   "outputs": [
    {
     "name": "stdout",
     "output_type": "stream",
     "text": [
      "Centroides de los clusters\n",
      "[['Hombre' '35' 'Soltero(a)' 'Taxi' 'Atraco' 'Sin dato' '10.0'\n",
      "  'Vía pública' 'Celular' '2018']\n",
      " ['Mujer' '27' 'Soltero(a)' 'Autobus' 'Cosquilleo' 'Sin dato' '10.0'\n",
      "  'Bus de servicio público' 'Celular' '2019']\n",
      " ['Hombre' '24' 'Soltero(a)' 'Metro' 'Cosquilleo' 'Sin dato' '10.0'\n",
      "  'Estación del Metro' 'Celular' '2022']]\n",
      "Clusters asignados a cada punto de datos:\n",
      "[0 0 0 ... 0 2 2]\n"
     ]
    }
   ],
   "source": [
    "print(\"Centroides de los clusters\")\n",
    "print(km.cluster_centroids_)\n",
    "print(\"Clusters asignados a cada punto de datos:\")\n",
    "print(clusters)"
   ]
  },
  {
   "cell_type": "code",
   "execution_count": 21,
   "metadata": {},
   "outputs": [],
   "source": [
    "import matplotlib.pyplot as plt\n",
    "from prince import MCA"
   ]
  },
  {
   "cell_type": "code",
   "execution_count": 22,
   "metadata": {},
   "outputs": [],
   "source": [
    "def compare_metrics(learners,X,y,metrics,train_size,repeats):\n",
    "    strlearners=[]\n",
    "    for i in range(0,len(learners)):\n",
    "        strlearners.append(str(learners[i]))  \n",
    "    df=pd.DataFrame(columns=metrics,index=strlearners)\n",
    "    for i in range (0,len(learners)):\n",
    "        for j in range(0,len(metrics)):\n",
    "            scores=[]\n",
    "            for k in range(repeats):\n",
    "                X_train, X_test, y_train, y_test = sklearn.model_selection.train_test_split(X, y, train_size=train_size)\n",
    "                learners[i].fit(X_train,y_train)\n",
    "                y_hat = learners[i].predict(X_test)\n",
    "                y_prob = learners[i].predict_proba(X_test)\n",
    "                if metrics[j]==\"Log loss\":\n",
    "                    scores.append(sklearn.metrics.log_loss(y_test, y_prob))\n",
    "                if metrics[j]==\"Brier Score Loss\":\n",
    "                    scores.append(sklearn.metrics.brier_score_loss(y_test, y_prob[:,1]))\n",
    "                if metrics[j]==\"Accuracy\":\n",
    "                    scores.append(sklearn.metrics.accuracy_score(y_test, y_hat))\n",
    "                if metrics[j]==\"Precision\":\n",
    "                    scores.append(sklearn.metrics.precision_score(y_test, y_hat))\n",
    "                if metrics[j]==\"F1\":\n",
    "                    scores.append(sklearn.metrics.f1_score(y_test, y_hat))\n",
    "                if metrics[j]==\"Recall\":\n",
    "                    scores.append(sklearn.metrics.recall_score(y_test, y_hat))\n",
    "                if metrics[j]==\"Auroc\":\n",
    "                    scores.append(sklearn.metrics.roc_auc_score(y_test, y_prob[:,1]))\n",
    "            df.iloc[i,j]=np.mean(scores)\n",
    "    return df"
   ]
  },
  {
   "cell_type": "code",
   "execution_count": 8,
   "metadata": {},
   "outputs": [],
   "source": [
    "metricas=[\"Log loss\",\"Brier Score Loss\",\"Accuracy\",\"Precision\",\"F1\",\"Recall\",\"Auroc\"]\n",
    "decision_tree=DecisionTreeClassifier()\n",
    "naive_bayes=GaussianNB()\n",
    "kNN=KNeighborsClassifier()\n",
    "log_regression = LogisticRegression()\n",
    "RandomForest = RandomForestClassifier()\n",
    "elearn=[decision_tree,naive_bayes,kNN,log_regression,RandomForest]"
   ]
  },
  {
   "cell_type": "code",
   "execution_count": 9,
   "metadata": {},
   "outputs": [],
   "source": [
    "#hurto_ml_scores  = compare_metrics(elearn,X,y,metricas,0.8,20)\n",
    "#hurto_ml_scores"
   ]
  },
  {
   "cell_type": "markdown",
   "metadata": {},
   "source": [
    "##### Multietiqueta"
   ]
  },
  {
   "cell_type": "code",
   "execution_count": 10,
   "metadata": {},
   "outputs": [],
   "source": [
    "bins = [-1, 12, 18, 30, 60, float('inf')]\n",
    "labels = ['Niño', 'Adolescente', 'Adulto joven', 'Adulto', 'Adulto mayor']\n",
    "\n",
    "# Utiliza pd.cut para crear los intervalos y asignar las etiquetas\n",
    "hurto_ml['grupo_edad'] = pd.cut(hurto_ml['Edad'], bins=bins, labels=labels, right=False)"
   ]
  },
  {
   "cell_type": "code",
   "execution_count": 11,
   "metadata": {},
   "outputs": [],
   "source": [
    "categorical_cols = ['grupo_edad']\n",
    "label_encoders = {}\n",
    "for col in categorical_cols:\n",
    "    le = LabelEncoder()\n",
    "    hurto_ml[col] = le.fit_transform(hurto_ml[col])\n",
    "    label_encoders[col] = le"
   ]
  },
  {
   "cell_type": "code",
   "execution_count": 12,
   "metadata": {},
   "outputs": [],
   "source": [
    "# Dividir el conjunto de datos en características (X) y etiquetas (y)\n",
    "X = hurto_ml.drop(['Fecha', 'grupo_edad', 'Sexo','Edad','Año'], axis=1)\n",
    "y = list(zip(hurto_ml['grupo_edad'],hurto_ml['Sexo']))\n",
    "\n",
    "# Dividir el conjunto de datos en conjuntos de entrenamiento y prueba\n",
    "X_train, X_test, y_train, y_test = train_test_split(X, y, test_size=0.2, random_state=42)\n",
    "\n",
    "# Crear un clasificador multi-etiqueta (por ejemplo, Random Forest)\n",
    "classifier = MultiOutputClassifier(RandomForestClassifier(n_estimators=100, random_state=42))\n",
    "\n",
    "# Entrenar el modelo\n",
    "classifier.fit(X_train, y_train)\n",
    "\n",
    "# Realizar predicciones en el conjunto de prueba\n",
    "y_pred = classifier.predict(X_test)\n",
    "\n",
    "# Evaluar el rendimiento del modelo\n",
    "#print(classifier.score(X_train, np.array(y_train)))"
   ]
  },
  {
   "cell_type": "code",
   "execution_count": 13,
   "metadata": {},
   "outputs": [],
   "source": [
    "B_grupo_edad = {1:'Adulto', 2:'Adulto joven',3:'Adulto mayor',0:'Adolescente',4:'Niño'}\n",
    "B_genero = {0:'Hombre', 1:'Mujer'}"
   ]
  },
  {
   "cell_type": "code",
   "execution_count": 14,
   "metadata": {},
   "outputs": [
    {
     "data": {
      "text/plain": [
       "'Soltero(a)'"
      ]
     },
     "execution_count": 14,
     "metadata": {},
     "output_type": "execute_result"
    }
   ],
   "source": [
    "mapeo_categorias = dict(zip(estado_civil.classes_, estado_civil.transform(estado_civil.classes_)))\n",
    "valor_codificado = 3 # Reemplaza con el valor codificado que deseas revertir\n",
    "valor_original = [key for key, value in mapeo_categorias.items() if value == valor_codificado][0]\n",
    "valor_original "
   ]
  },
  {
   "cell_type": "code",
   "execution_count": 15,
   "metadata": {},
   "outputs": [
    {
     "data": {
      "text/plain": [
       "'Autobus'"
      ]
     },
     "execution_count": 15,
     "metadata": {},
     "output_type": "execute_result"
    }
   ],
   "source": [
    "mapeo_categorias = dict(zip(transporte.classes_, transporte.transform(transporte.classes_)))\n",
    "valor_codificado = 0 # Reemplaza con el valor codificado que deseas revertir\n",
    "valor_original = [key for key, value in mapeo_categorias.items() if value == valor_codificado][0]\n",
    "valor_original "
   ]
  },
  {
   "cell_type": "code",
   "execution_count": 16,
   "metadata": {},
   "outputs": [
    {
     "data": {
      "text/plain": [
       "'Cosquilleo'"
      ]
     },
     "execution_count": 16,
     "metadata": {},
     "output_type": "execute_result"
    }
   ],
   "source": [
    "mapeo_categorias = dict(zip(modalidad.classes_, modalidad.transform(modalidad.classes_)))\n",
    "valor_codificado = 3 # Reemplaza con el valor codificado que deseas revertir\n",
    "valor_original = [key for key, value in mapeo_categorias.items() if value == valor_codificado][0]\n",
    "valor_original "
   ]
  },
  {
   "cell_type": "code",
   "execution_count": 17,
   "metadata": {},
   "outputs": [
    {
     "data": {
      "text/plain": [
       "'Sin dato'"
      ]
     },
     "execution_count": 17,
     "metadata": {},
     "output_type": "execute_result"
    }
   ],
   "source": [
    "mapeo_categorias = dict(zip(conducta.classes_, conducta.transform(conducta.classes_)))\n",
    "valor_codificado = 11 # Reemplaza con el valor codificado que deseas revertir\n",
    "valor_original = [key for key, value in mapeo_categorias.items() if value == valor_codificado][0]\n",
    "valor_original "
   ]
  },
  {
   "cell_type": "code",
   "execution_count": 18,
   "metadata": {},
   "outputs": [
    {
     "data": {
      "text/plain": [
       "10.0"
      ]
     },
     "execution_count": 18,
     "metadata": {},
     "output_type": "execute_result"
    }
   ],
   "source": [
    "mapeo_categorias = dict(zip(comuna.classes_, comuna.transform(comuna.classes_)))\n",
    "valor_codificado = 9 # Reemplaza con el valor codificado que deseas revertir\n",
    "valor_original = [key for key, value in mapeo_categorias.items() if value == valor_codificado][0]\n",
    "valor_original "
   ]
  },
  {
   "cell_type": "code",
   "execution_count": 19,
   "metadata": {},
   "outputs": [
    {
     "data": {
      "text/plain": [
       "'Bus de servicio público'"
      ]
     },
     "execution_count": 19,
     "metadata": {},
     "output_type": "execute_result"
    }
   ],
   "source": [
    "mapeo_categorias = dict(zip(lugar.classes_, lugar.transform(lugar.classes_)))\n",
    "valor_codificado = 9 # Reemplaza con el valor codificado que deseas revertir\n",
    "valor_original = [key for key, value in mapeo_categorias.items() if value == valor_codificado][0]\n",
    "valor_original "
   ]
  },
  {
   "cell_type": "code",
   "execution_count": 20,
   "metadata": {},
   "outputs": [
    {
     "data": {
      "text/plain": [
       "'Celular'"
      ]
     },
     "execution_count": 20,
     "metadata": {},
     "output_type": "execute_result"
    }
   ],
   "source": [
    "mapeo_categorias = dict(zip(bien.classes_, bien.transform(bien.classes_)))\n",
    "valor_codificado =  43 # Reemplaza con el valor codificado que deseas revertir\n",
    "valor_original = [key for key, value in mapeo_categorias.items() if value == valor_codificado][0]\n",
    "valor_original"
   ]
  },
  {
   "cell_type": "code",
   "execution_count": 21,
   "metadata": {},
   "outputs": [],
   "source": [
    "test = [(3,0,3,11,9,9,43)]"
   ]
  },
  {
   "cell_type": "code",
   "execution_count": 22,
   "metadata": {},
   "outputs": [
    {
     "name": "stdout",
     "output_type": "stream",
     "text": [
      "Género predicción: Mujer \n",
      " Grupo edad predicción: Adulto joven\n"
     ]
    },
    {
     "name": "stderr",
     "output_type": "stream",
     "text": [
      "c:\\Users\\Asus\\miniconda3\\envs\\project\\lib\\site-packages\\sklearn\\base.py:465: UserWarning: X does not have valid feature names, but RandomForestClassifier was fitted with feature names\n",
      "  warnings.warn(\n",
      "c:\\Users\\Asus\\miniconda3\\envs\\project\\lib\\site-packages\\sklearn\\base.py:465: UserWarning: X does not have valid feature names, but RandomForestClassifier was fitted with feature names\n",
      "  warnings.warn(\n"
     ]
    }
   ],
   "source": [
    "y_pred = classifier.predict(test)\n",
    "print('Género predicción:', B_genero[y_pred[0, 1]],'\\n','Grupo edad predicción:', B_grupo_edad[y_pred[0, 0]])"
   ]
  }
 ],
 "metadata": {
  "kernelspec": {
   "display_name": "project",
   "language": "python",
   "name": "python3"
  },
  "language_info": {
   "codemirror_mode": {
    "name": "ipython",
    "version": 3
   },
   "file_extension": ".py",
   "mimetype": "text/x-python",
   "name": "python",
   "nbconvert_exporter": "python",
   "pygments_lexer": "ipython3",
   "version": "3.10.11"
  },
  "orig_nbformat": 4
 },
 "nbformat": 4,
 "nbformat_minor": 2
}

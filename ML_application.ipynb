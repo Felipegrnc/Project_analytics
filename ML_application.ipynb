{
 "cells": [
  {
   "cell_type": "code",
   "execution_count": 1,
   "metadata": {},
   "outputs": [],
   "source": [
    "import numpy as np\n",
    "import pandas as pd\n",
    "import seaborn as sns\n",
    "import matplotlib.pyplot as plt\n",
    "import matplotlib.dates as mdates"
   ]
  },
  {
   "cell_type": "code",
   "execution_count": 2,
   "metadata": {},
   "outputs": [
    {
     "name": "stderr",
     "output_type": "stream",
     "text": [
      "c:\\Users\\asus\\OneDrive - Universidad de la Sabana\\Trabajos Universidad\\Semestre 8\\Proyecto en analítica aplicada\\Proyecto_analitica_aplicada\\data_quality.py:22: DtypeWarning: Columns (0,1,2,3,4,5,6,7,8,9,11,12,14,15,16,17,18) have mixed types. Specify dtype option on import or set low_memory=False.\n",
      "  mede_victimas=pd.read_csv(mede_victimas_ruta, delimiter=\";\", encoding=\"utf-8\")\n",
      "c:\\Users\\asus\\OneDrive - Universidad de la Sabana\\Trabajos Universidad\\Semestre 8\\Proyecto en analítica aplicada\\Proyecto_analitica_aplicada\\data_quality.py:24: DtypeWarning: Columns (8,12) have mixed types. Specify dtype option on import or set low_memory=False.\n",
      "  compar=pd.read_csv(compar_ruta, delimiter=\";\", encoding=\"utf-8\")\n"
     ]
    }
   ],
   "source": [
    "from data_quality import cargue_datasets\n",
    "casos, edu_vial2018, encuesta_calidad, encuesta_cultura, hurto_tp, lesion_nf, mede_victimas, traffic, compar = cargue_datasets()"
   ]
  },
  {
   "cell_type": "code",
   "execution_count": null,
   "metadata": {},
   "outputs": [],
   "source": []
  }
 ],
 "metadata": {
  "kernelspec": {
   "display_name": "project",
   "language": "python",
   "name": "python3"
  },
  "language_info": {
   "codemirror_mode": {
    "name": "ipython",
    "version": 3
   },
   "file_extension": ".py",
   "mimetype": "text/x-python",
   "name": "python",
   "nbconvert_exporter": "python",
   "pygments_lexer": "ipython3",
   "version": "3.10.11"
  },
  "orig_nbformat": 4
 },
 "nbformat": 4,
 "nbformat_minor": 2
}

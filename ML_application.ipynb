{
 "cells": [
  {
   "cell_type": "code",
   "execution_count": 24,
   "metadata": {},
   "outputs": [],
   "source": [
    "from sklearn.model_selection import train_test_split\n",
    "from sklearn.preprocessing import LabelEncoder\n",
    "from sklearn.linear_model import LogisticRegression\n",
    "from sklearn.metrics import accuracy_score, classification_report\n",
    "from sklearn.tree import DecisionTreeClassifier\n",
    "import pandas as pd\n",
    "import sklearn.metrics\n",
    "from sklearn.tree import DecisionTreeClassifier\n",
    "from sklearn.linear_model import LogisticRegression\n",
    "from sklearn.naive_bayes import GaussianNB\n",
    "from sklearn.ensemble import RandomForestClassifier\n",
    "from sklearn.neighbors import KNeighborsClassifier\n",
    "import numpy as np\n",
    "from sklearn.multioutput import MultiOutputClassifier\n",
    "from sklearn.metrics import hamming_loss, jaccard_score\n",
    "from sklearn.metrics import f1_score\n",
    "from sklearn.metrics import confusion_matrix, ConfusionMatrixDisplay\n",
    "import matplotlib.pyplot as plt"
   ]
  },
  {
   "cell_type": "code",
   "execution_count": 2,
   "metadata": {},
   "outputs": [],
   "source": [
    "from data_quality import cargue_datasets_c\n",
    "casos, hurto_tp, mede_victimas, compar = cargue_datasets_c()\n",
    "hurto_ml = hurto_tp \n",
    "\n",
    "from data_quality import casos_c\n",
    "casos=casos_c(casos)\n",
    "\n",
    "from data_quality import hurto_tp_c\n",
    "hurto_tp= hurto_tp_c(hurto_tp)\n",
    "\n",
    "from data_quality import medevic_c\n",
    "mede_victimas = medevic_c(mede_victimas)"
   ]
  },
  {
   "cell_type": "code",
   "execution_count": 3,
   "metadata": {},
   "outputs": [],
   "source": [
    "# Codificar variables categóricas (como Sexo, Estado_civil, Transporte, Modalidad, Conducta, Comuna, Lugar, Bien)\n",
    "categorical_cols = ['Sexo', 'Estado_civil', 'Transporte', 'Modalidad', 'Conducta', 'Comuna', 'Lugar', 'Bien']\n",
    "label_encoders = {}\n",
    "for col in categorical_cols:\n",
    "    le = LabelEncoder()\n",
    "    hurto_ml[col] = le.fit_transform(hurto_ml[col])\n",
    "    label_encoders[col] = le\n",
    "    #alm = label_encoders[col]"
   ]
  },
  {
   "cell_type": "code",
   "execution_count": 4,
   "metadata": {},
   "outputs": [],
   "source": [
    "# Dividir los datos en conjuntos de entrenamiento y prueba\n",
    "X = hurto_ml.drop(['Fecha','Sexo'], axis=1)  # Elimina las columnas\n",
    "y = hurto_ml['Sexo']  # Define tu objetivo, en este caso 'Sexo'\n",
    "\n",
    "X_train, X_test, y_train, y_test = train_test_split(X, y, test_size=0.2, random_state=42)"
   ]
  },
  {
   "cell_type": "code",
   "execution_count": 5,
   "metadata": {},
   "outputs": [],
   "source": [
    "def compare_metrics(learners,X,y,metrics,train_size,repeats):\n",
    "    strlearners=[]\n",
    "    for i in range(0,len(learners)):\n",
    "        strlearners.append(str(learners[i]))  \n",
    "    df=pd.DataFrame(columns=metrics,index=strlearners)\n",
    "    for i in range (0,len(learners)):\n",
    "        for j in range(0,len(metrics)):\n",
    "            scores=[]\n",
    "            for k in range(repeats):\n",
    "                X_train, X_test, y_train, y_test = sklearn.model_selection.train_test_split(X, y, train_size=train_size)\n",
    "                learners[i].fit(X_train,y_train)\n",
    "                y_hat = learners[i].predict(X_test)\n",
    "                y_prob = learners[i].predict_proba(X_test)\n",
    "                if metrics[j]==\"Log loss\":\n",
    "                    scores.append(sklearn.metrics.log_loss(y_test, y_prob))\n",
    "                if metrics[j]==\"Brier Score Loss\":\n",
    "                    scores.append(sklearn.metrics.brier_score_loss(y_test, y_prob[:,1]))\n",
    "                if metrics[j]==\"Accuracy\":\n",
    "                    scores.append(sklearn.metrics.accuracy_score(y_test, y_hat))\n",
    "                if metrics[j]==\"Precision\":\n",
    "                    scores.append(sklearn.metrics.precision_score(y_test, y_hat))\n",
    "                if metrics[j]==\"F1\":\n",
    "                    scores.append(sklearn.metrics.f1_score(y_test, y_hat))\n",
    "                if metrics[j]==\"Recall\":\n",
    "                    scores.append(sklearn.metrics.recall_score(y_test, y_hat))\n",
    "                if metrics[j]==\"Auroc\":\n",
    "                    scores.append(sklearn.metrics.roc_auc_score(y_test, y_prob[:,1]))\n",
    "            df.iloc[i,j]=np.mean(scores)\n",
    "    return df"
   ]
  },
  {
   "cell_type": "code",
   "execution_count": 6,
   "metadata": {},
   "outputs": [],
   "source": [
    "metricas=[\"Log loss\",\"Brier Score Loss\",\"Accuracy\",\"Precision\",\"F1\",\"Recall\",\"Auroc\"]\n",
    "decision_tree=DecisionTreeClassifier()\n",
    "naive_bayes=GaussianNB()\n",
    "kNN=KNeighborsClassifier()\n",
    "log_regression = LogisticRegression()\n",
    "RandomForest = RandomForestClassifier()\n",
    "elearn=[decision_tree,naive_bayes,kNN,log_regression,RandomForest]"
   ]
  },
  {
   "cell_type": "code",
   "execution_count": 7,
   "metadata": {},
   "outputs": [
    {
     "name": "stderr",
     "output_type": "stream",
     "text": [
      "c:\\Users\\Asus\\miniconda3\\envs\\project\\lib\\site-packages\\sklearn\\metrics\\_classification.py:2916: UserWarning: The y_pred values do not sum to one. Starting from 1.5 thiswill result in an error.\n",
      "  warnings.warn(\n",
      "c:\\Users\\Asus\\miniconda3\\envs\\project\\lib\\site-packages\\sklearn\\metrics\\_classification.py:2916: UserWarning: The y_pred values do not sum to one. Starting from 1.5 thiswill result in an error.\n",
      "  warnings.warn(\n",
      "c:\\Users\\Asus\\miniconda3\\envs\\project\\lib\\site-packages\\sklearn\\metrics\\_classification.py:2916: UserWarning: The y_pred values do not sum to one. Starting from 1.5 thiswill result in an error.\n",
      "  warnings.warn(\n",
      "c:\\Users\\Asus\\miniconda3\\envs\\project\\lib\\site-packages\\sklearn\\metrics\\_classification.py:2916: UserWarning: The y_pred values do not sum to one. Starting from 1.5 thiswill result in an error.\n",
      "  warnings.warn(\n",
      "c:\\Users\\Asus\\miniconda3\\envs\\project\\lib\\site-packages\\sklearn\\metrics\\_classification.py:2916: UserWarning: The y_pred values do not sum to one. Starting from 1.5 thiswill result in an error.\n",
      "  warnings.warn(\n",
      "c:\\Users\\Asus\\miniconda3\\envs\\project\\lib\\site-packages\\sklearn\\metrics\\_classification.py:2916: UserWarning: The y_pred values do not sum to one. Starting from 1.5 thiswill result in an error.\n",
      "  warnings.warn(\n",
      "c:\\Users\\Asus\\miniconda3\\envs\\project\\lib\\site-packages\\sklearn\\metrics\\_classification.py:2916: UserWarning: The y_pred values do not sum to one. Starting from 1.5 thiswill result in an error.\n",
      "  warnings.warn(\n",
      "c:\\Users\\Asus\\miniconda3\\envs\\project\\lib\\site-packages\\sklearn\\metrics\\_classification.py:2916: UserWarning: The y_pred values do not sum to one. Starting from 1.5 thiswill result in an error.\n",
      "  warnings.warn(\n",
      "c:\\Users\\Asus\\miniconda3\\envs\\project\\lib\\site-packages\\sklearn\\metrics\\_classification.py:2916: UserWarning: The y_pred values do not sum to one. Starting from 1.5 thiswill result in an error.\n",
      "  warnings.warn(\n",
      "c:\\Users\\Asus\\miniconda3\\envs\\project\\lib\\site-packages\\sklearn\\metrics\\_classification.py:2916: UserWarning: The y_pred values do not sum to one. Starting from 1.5 thiswill result in an error.\n",
      "  warnings.warn(\n",
      "c:\\Users\\Asus\\miniconda3\\envs\\project\\lib\\site-packages\\sklearn\\metrics\\_classification.py:2916: UserWarning: The y_pred values do not sum to one. Starting from 1.5 thiswill result in an error.\n",
      "  warnings.warn(\n",
      "c:\\Users\\Asus\\miniconda3\\envs\\project\\lib\\site-packages\\sklearn\\metrics\\_classification.py:2916: UserWarning: The y_pred values do not sum to one. Starting from 1.5 thiswill result in an error.\n",
      "  warnings.warn(\n",
      "c:\\Users\\Asus\\miniconda3\\envs\\project\\lib\\site-packages\\sklearn\\metrics\\_classification.py:2916: UserWarning: The y_pred values do not sum to one. Starting from 1.5 thiswill result in an error.\n",
      "  warnings.warn(\n",
      "c:\\Users\\Asus\\miniconda3\\envs\\project\\lib\\site-packages\\sklearn\\metrics\\_classification.py:2916: UserWarning: The y_pred values do not sum to one. Starting from 1.5 thiswill result in an error.\n",
      "  warnings.warn(\n",
      "c:\\Users\\Asus\\miniconda3\\envs\\project\\lib\\site-packages\\sklearn\\metrics\\_classification.py:2916: UserWarning: The y_pred values do not sum to one. Starting from 1.5 thiswill result in an error.\n",
      "  warnings.warn(\n",
      "c:\\Users\\Asus\\miniconda3\\envs\\project\\lib\\site-packages\\sklearn\\metrics\\_classification.py:2916: UserWarning: The y_pred values do not sum to one. Starting from 1.5 thiswill result in an error.\n",
      "  warnings.warn(\n",
      "c:\\Users\\Asus\\miniconda3\\envs\\project\\lib\\site-packages\\sklearn\\metrics\\_classification.py:2916: UserWarning: The y_pred values do not sum to one. Starting from 1.5 thiswill result in an error.\n",
      "  warnings.warn(\n",
      "c:\\Users\\Asus\\miniconda3\\envs\\project\\lib\\site-packages\\sklearn\\metrics\\_classification.py:2916: UserWarning: The y_pred values do not sum to one. Starting from 1.5 thiswill result in an error.\n",
      "  warnings.warn(\n",
      "c:\\Users\\Asus\\miniconda3\\envs\\project\\lib\\site-packages\\sklearn\\metrics\\_classification.py:2916: UserWarning: The y_pred values do not sum to one. Starting from 1.5 thiswill result in an error.\n",
      "  warnings.warn(\n",
      "c:\\Users\\Asus\\miniconda3\\envs\\project\\lib\\site-packages\\sklearn\\metrics\\_classification.py:2916: UserWarning: The y_pred values do not sum to one. Starting from 1.5 thiswill result in an error.\n",
      "  warnings.warn(\n"
     ]
    },
    {
     "ename": "KeyboardInterrupt",
     "evalue": "",
     "output_type": "error",
     "traceback": [
      "\u001b[1;31m---------------------------------------------------------------------------\u001b[0m",
      "\u001b[1;31mKeyboardInterrupt\u001b[0m                         Traceback (most recent call last)",
      "\u001b[1;32mc:\\Users\\Asus\\OneDrive - Universidad de la Sabana\\Universidad\\Octavo Semestre\\Proyecto de analítica\\Proyecto_analitica_aplicada\\ML_application.ipynb Cell 7\u001b[0m line \u001b[0;36m1\n\u001b[1;32m----> <a href='vscode-notebook-cell:/c%3A/Users/Asus/OneDrive%20-%20Universidad%20de%20la%20Sabana/Universidad/Octavo%20Semestre/Proyecto%20de%20anal%C3%ADtica/Proyecto_analitica_aplicada/ML_application.ipynb#W6sZmlsZQ%3D%3D?line=0'>1</a>\u001b[0m hurto_ml_scores  \u001b[39m=\u001b[39m compare_metrics(elearn,X,y,metricas,\u001b[39m0.8\u001b[39;49m,\u001b[39m20\u001b[39;49m)\n\u001b[0;32m      <a href='vscode-notebook-cell:/c%3A/Users/Asus/OneDrive%20-%20Universidad%20de%20la%20Sabana/Universidad/Octavo%20Semestre/Proyecto%20de%20anal%C3%ADtica/Proyecto_analitica_aplicada/ML_application.ipynb#W6sZmlsZQ%3D%3D?line=1'>2</a>\u001b[0m hurto_ml_scores\n",
      "\u001b[1;32mc:\\Users\\Asus\\OneDrive - Universidad de la Sabana\\Universidad\\Octavo Semestre\\Proyecto de analítica\\Proyecto_analitica_aplicada\\ML_application.ipynb Cell 7\u001b[0m line \u001b[0;36m1\n\u001b[0;32m     <a href='vscode-notebook-cell:/c%3A/Users/Asus/OneDrive%20-%20Universidad%20de%20la%20Sabana/Universidad/Octavo%20Semestre/Proyecto%20de%20anal%C3%ADtica/Proyecto_analitica_aplicada/ML_application.ipynb#W6sZmlsZQ%3D%3D?line=10'>11</a>\u001b[0m learners[i]\u001b[39m.\u001b[39mfit(X_train,y_train)\n\u001b[0;32m     <a href='vscode-notebook-cell:/c%3A/Users/Asus/OneDrive%20-%20Universidad%20de%20la%20Sabana/Universidad/Octavo%20Semestre/Proyecto%20de%20anal%C3%ADtica/Proyecto_analitica_aplicada/ML_application.ipynb#W6sZmlsZQ%3D%3D?line=11'>12</a>\u001b[0m y_hat \u001b[39m=\u001b[39m learners[i]\u001b[39m.\u001b[39mpredict(X_test)\n\u001b[1;32m---> <a href='vscode-notebook-cell:/c%3A/Users/Asus/OneDrive%20-%20Universidad%20de%20la%20Sabana/Universidad/Octavo%20Semestre/Proyecto%20de%20anal%C3%ADtica/Proyecto_analitica_aplicada/ML_application.ipynb#W6sZmlsZQ%3D%3D?line=12'>13</a>\u001b[0m y_prob \u001b[39m=\u001b[39m learners[i]\u001b[39m.\u001b[39;49mpredict_proba(X_test)\n\u001b[0;32m     <a href='vscode-notebook-cell:/c%3A/Users/Asus/OneDrive%20-%20Universidad%20de%20la%20Sabana/Universidad/Octavo%20Semestre/Proyecto%20de%20anal%C3%ADtica/Proyecto_analitica_aplicada/ML_application.ipynb#W6sZmlsZQ%3D%3D?line=13'>14</a>\u001b[0m \u001b[39mif\u001b[39;00m metrics[j]\u001b[39m==\u001b[39m\u001b[39m\"\u001b[39m\u001b[39mLog loss\u001b[39m\u001b[39m\"\u001b[39m:\n\u001b[0;32m     <a href='vscode-notebook-cell:/c%3A/Users/Asus/OneDrive%20-%20Universidad%20de%20la%20Sabana/Universidad/Octavo%20Semestre/Proyecto%20de%20anal%C3%ADtica/Proyecto_analitica_aplicada/ML_application.ipynb#W6sZmlsZQ%3D%3D?line=14'>15</a>\u001b[0m     scores\u001b[39m.\u001b[39mappend(sklearn\u001b[39m.\u001b[39mmetrics\u001b[39m.\u001b[39mlog_loss(y_test, y_prob))\n",
      "File \u001b[1;32mc:\\Users\\Asus\\miniconda3\\envs\\project\\lib\\site-packages\\sklearn\\neighbors\\_classification.py:355\u001b[0m, in \u001b[0;36mKNeighborsClassifier.predict_proba\u001b[1;34m(self, X)\u001b[0m\n\u001b[0;32m    351\u001b[0m         \u001b[39mreturn\u001b[39;00m probabilities\n\u001b[0;32m    353\u001b[0m     \u001b[39m# In that case, we do not need the distances to perform\u001b[39;00m\n\u001b[0;32m    354\u001b[0m     \u001b[39m# the weighting so we do not compute them.\u001b[39;00m\n\u001b[1;32m--> 355\u001b[0m     neigh_ind \u001b[39m=\u001b[39m \u001b[39mself\u001b[39;49m\u001b[39m.\u001b[39;49mkneighbors(X, return_distance\u001b[39m=\u001b[39;49m\u001b[39mFalse\u001b[39;49;00m)\n\u001b[0;32m    356\u001b[0m     neigh_dist \u001b[39m=\u001b[39m \u001b[39mNone\u001b[39;00m\n\u001b[0;32m    357\u001b[0m \u001b[39melse\u001b[39;00m:\n",
      "File \u001b[1;32mc:\\Users\\Asus\\miniconda3\\envs\\project\\lib\\site-packages\\sklearn\\neighbors\\_base.py:877\u001b[0m, in \u001b[0;36mKNeighborsMixin.kneighbors\u001b[1;34m(self, X, n_neighbors, return_distance)\u001b[0m\n\u001b[0;32m    871\u001b[0m     \u001b[39mif\u001b[39;00m issparse(X):\n\u001b[0;32m    872\u001b[0m         \u001b[39mraise\u001b[39;00m \u001b[39mValueError\u001b[39;00m(\n\u001b[0;32m    873\u001b[0m             \u001b[39m\"\u001b[39m\u001b[39m%s\u001b[39;00m\u001b[39m does not work with sparse matrices. Densify the data, \u001b[39m\u001b[39m\"\u001b[39m\n\u001b[0;32m    874\u001b[0m             \u001b[39m\"\u001b[39m\u001b[39mor set algorithm=\u001b[39m\u001b[39m'\u001b[39m\u001b[39mbrute\u001b[39m\u001b[39m'\u001b[39m\u001b[39m\"\u001b[39m\n\u001b[0;32m    875\u001b[0m             \u001b[39m%\u001b[39m \u001b[39mself\u001b[39m\u001b[39m.\u001b[39m_fit_method\n\u001b[0;32m    876\u001b[0m         )\n\u001b[1;32m--> 877\u001b[0m     chunked_results \u001b[39m=\u001b[39m Parallel(n_jobs, prefer\u001b[39m=\u001b[39;49m\u001b[39m\"\u001b[39;49m\u001b[39mthreads\u001b[39;49m\u001b[39m\"\u001b[39;49m)(\n\u001b[0;32m    878\u001b[0m         delayed(_tree_query_parallel_helper)(\n\u001b[0;32m    879\u001b[0m             \u001b[39mself\u001b[39;49m\u001b[39m.\u001b[39;49m_tree, X[s], n_neighbors, return_distance\n\u001b[0;32m    880\u001b[0m         )\n\u001b[0;32m    881\u001b[0m         \u001b[39mfor\u001b[39;49;00m s \u001b[39min\u001b[39;49;00m gen_even_slices(X\u001b[39m.\u001b[39;49mshape[\u001b[39m0\u001b[39;49m], n_jobs)\n\u001b[0;32m    882\u001b[0m     )\n\u001b[0;32m    883\u001b[0m \u001b[39melse\u001b[39;00m:\n\u001b[0;32m    884\u001b[0m     \u001b[39mraise\u001b[39;00m \u001b[39mValueError\u001b[39;00m(\u001b[39m\"\u001b[39m\u001b[39minternal: _fit_method not recognized\u001b[39m\u001b[39m\"\u001b[39m)\n",
      "File \u001b[1;32mc:\\Users\\Asus\\miniconda3\\envs\\project\\lib\\site-packages\\sklearn\\utils\\parallel.py:65\u001b[0m, in \u001b[0;36mParallel.__call__\u001b[1;34m(self, iterable)\u001b[0m\n\u001b[0;32m     60\u001b[0m config \u001b[39m=\u001b[39m get_config()\n\u001b[0;32m     61\u001b[0m iterable_with_config \u001b[39m=\u001b[39m (\n\u001b[0;32m     62\u001b[0m     (_with_config(delayed_func, config), args, kwargs)\n\u001b[0;32m     63\u001b[0m     \u001b[39mfor\u001b[39;00m delayed_func, args, kwargs \u001b[39min\u001b[39;00m iterable\n\u001b[0;32m     64\u001b[0m )\n\u001b[1;32m---> 65\u001b[0m \u001b[39mreturn\u001b[39;00m \u001b[39msuper\u001b[39;49m()\u001b[39m.\u001b[39;49m\u001b[39m__call__\u001b[39;49m(iterable_with_config)\n",
      "File \u001b[1;32mc:\\Users\\Asus\\miniconda3\\envs\\project\\lib\\site-packages\\joblib\\parallel.py:1085\u001b[0m, in \u001b[0;36mParallel.__call__\u001b[1;34m(self, iterable)\u001b[0m\n\u001b[0;32m   1076\u001b[0m \u001b[39mtry\u001b[39;00m:\n\u001b[0;32m   1077\u001b[0m     \u001b[39m# Only set self._iterating to True if at least a batch\u001b[39;00m\n\u001b[0;32m   1078\u001b[0m     \u001b[39m# was dispatched. In particular this covers the edge\u001b[39;00m\n\u001b[1;32m   (...)\u001b[0m\n\u001b[0;32m   1082\u001b[0m     \u001b[39m# was very quick and its callback already dispatched all the\u001b[39;00m\n\u001b[0;32m   1083\u001b[0m     \u001b[39m# remaining jobs.\u001b[39;00m\n\u001b[0;32m   1084\u001b[0m     \u001b[39mself\u001b[39m\u001b[39m.\u001b[39m_iterating \u001b[39m=\u001b[39m \u001b[39mFalse\u001b[39;00m\n\u001b[1;32m-> 1085\u001b[0m     \u001b[39mif\u001b[39;00m \u001b[39mself\u001b[39;49m\u001b[39m.\u001b[39;49mdispatch_one_batch(iterator):\n\u001b[0;32m   1086\u001b[0m         \u001b[39mself\u001b[39m\u001b[39m.\u001b[39m_iterating \u001b[39m=\u001b[39m \u001b[39mself\u001b[39m\u001b[39m.\u001b[39m_original_iterator \u001b[39mis\u001b[39;00m \u001b[39mnot\u001b[39;00m \u001b[39mNone\u001b[39;00m\n\u001b[0;32m   1088\u001b[0m     \u001b[39mwhile\u001b[39;00m \u001b[39mself\u001b[39m\u001b[39m.\u001b[39mdispatch_one_batch(iterator):\n",
      "File \u001b[1;32mc:\\Users\\Asus\\miniconda3\\envs\\project\\lib\\site-packages\\joblib\\parallel.py:901\u001b[0m, in \u001b[0;36mParallel.dispatch_one_batch\u001b[1;34m(self, iterator)\u001b[0m\n\u001b[0;32m    899\u001b[0m     \u001b[39mreturn\u001b[39;00m \u001b[39mFalse\u001b[39;00m\n\u001b[0;32m    900\u001b[0m \u001b[39melse\u001b[39;00m:\n\u001b[1;32m--> 901\u001b[0m     \u001b[39mself\u001b[39;49m\u001b[39m.\u001b[39;49m_dispatch(tasks)\n\u001b[0;32m    902\u001b[0m     \u001b[39mreturn\u001b[39;00m \u001b[39mTrue\u001b[39;00m\n",
      "File \u001b[1;32mc:\\Users\\Asus\\miniconda3\\envs\\project\\lib\\site-packages\\joblib\\parallel.py:819\u001b[0m, in \u001b[0;36mParallel._dispatch\u001b[1;34m(self, batch)\u001b[0m\n\u001b[0;32m    817\u001b[0m \u001b[39mwith\u001b[39;00m \u001b[39mself\u001b[39m\u001b[39m.\u001b[39m_lock:\n\u001b[0;32m    818\u001b[0m     job_idx \u001b[39m=\u001b[39m \u001b[39mlen\u001b[39m(\u001b[39mself\u001b[39m\u001b[39m.\u001b[39m_jobs)\n\u001b[1;32m--> 819\u001b[0m     job \u001b[39m=\u001b[39m \u001b[39mself\u001b[39;49m\u001b[39m.\u001b[39;49m_backend\u001b[39m.\u001b[39;49mapply_async(batch, callback\u001b[39m=\u001b[39;49mcb)\n\u001b[0;32m    820\u001b[0m     \u001b[39m# A job can complete so quickly than its callback is\u001b[39;00m\n\u001b[0;32m    821\u001b[0m     \u001b[39m# called before we get here, causing self._jobs to\u001b[39;00m\n\u001b[0;32m    822\u001b[0m     \u001b[39m# grow. To ensure correct results ordering, .insert is\u001b[39;00m\n\u001b[0;32m    823\u001b[0m     \u001b[39m# used (rather than .append) in the following line\u001b[39;00m\n\u001b[0;32m    824\u001b[0m     \u001b[39mself\u001b[39m\u001b[39m.\u001b[39m_jobs\u001b[39m.\u001b[39minsert(job_idx, job)\n",
      "File \u001b[1;32mc:\\Users\\Asus\\miniconda3\\envs\\project\\lib\\site-packages\\joblib\\_parallel_backends.py:208\u001b[0m, in \u001b[0;36mSequentialBackend.apply_async\u001b[1;34m(self, func, callback)\u001b[0m\n\u001b[0;32m    206\u001b[0m \u001b[39mdef\u001b[39;00m \u001b[39mapply_async\u001b[39m(\u001b[39mself\u001b[39m, func, callback\u001b[39m=\u001b[39m\u001b[39mNone\u001b[39;00m):\n\u001b[0;32m    207\u001b[0m \u001b[39m    \u001b[39m\u001b[39m\"\"\"Schedule a func to be run\"\"\"\u001b[39;00m\n\u001b[1;32m--> 208\u001b[0m     result \u001b[39m=\u001b[39m ImmediateResult(func)\n\u001b[0;32m    209\u001b[0m     \u001b[39mif\u001b[39;00m callback:\n\u001b[0;32m    210\u001b[0m         callback(result)\n",
      "File \u001b[1;32mc:\\Users\\Asus\\miniconda3\\envs\\project\\lib\\site-packages\\joblib\\_parallel_backends.py:597\u001b[0m, in \u001b[0;36mImmediateResult.__init__\u001b[1;34m(self, batch)\u001b[0m\n\u001b[0;32m    594\u001b[0m \u001b[39mdef\u001b[39;00m \u001b[39m__init__\u001b[39m(\u001b[39mself\u001b[39m, batch):\n\u001b[0;32m    595\u001b[0m     \u001b[39m# Don't delay the application, to avoid keeping the input\u001b[39;00m\n\u001b[0;32m    596\u001b[0m     \u001b[39m# arguments in memory\u001b[39;00m\n\u001b[1;32m--> 597\u001b[0m     \u001b[39mself\u001b[39m\u001b[39m.\u001b[39mresults \u001b[39m=\u001b[39m batch()\n",
      "File \u001b[1;32mc:\\Users\\Asus\\miniconda3\\envs\\project\\lib\\site-packages\\joblib\\parallel.py:288\u001b[0m, in \u001b[0;36mBatchedCalls.__call__\u001b[1;34m(self)\u001b[0m\n\u001b[0;32m    284\u001b[0m \u001b[39mdef\u001b[39;00m \u001b[39m__call__\u001b[39m(\u001b[39mself\u001b[39m):\n\u001b[0;32m    285\u001b[0m     \u001b[39m# Set the default nested backend to self._backend but do not set the\u001b[39;00m\n\u001b[0;32m    286\u001b[0m     \u001b[39m# change the default number of processes to -1\u001b[39;00m\n\u001b[0;32m    287\u001b[0m     \u001b[39mwith\u001b[39;00m parallel_backend(\u001b[39mself\u001b[39m\u001b[39m.\u001b[39m_backend, n_jobs\u001b[39m=\u001b[39m\u001b[39mself\u001b[39m\u001b[39m.\u001b[39m_n_jobs):\n\u001b[1;32m--> 288\u001b[0m         \u001b[39mreturn\u001b[39;00m [func(\u001b[39m*\u001b[39margs, \u001b[39m*\u001b[39m\u001b[39m*\u001b[39mkwargs)\n\u001b[0;32m    289\u001b[0m                 \u001b[39mfor\u001b[39;00m func, args, kwargs \u001b[39min\u001b[39;00m \u001b[39mself\u001b[39m\u001b[39m.\u001b[39mitems]\n",
      "File \u001b[1;32mc:\\Users\\Asus\\miniconda3\\envs\\project\\lib\\site-packages\\joblib\\parallel.py:288\u001b[0m, in \u001b[0;36m<listcomp>\u001b[1;34m(.0)\u001b[0m\n\u001b[0;32m    284\u001b[0m \u001b[39mdef\u001b[39;00m \u001b[39m__call__\u001b[39m(\u001b[39mself\u001b[39m):\n\u001b[0;32m    285\u001b[0m     \u001b[39m# Set the default nested backend to self._backend but do not set the\u001b[39;00m\n\u001b[0;32m    286\u001b[0m     \u001b[39m# change the default number of processes to -1\u001b[39;00m\n\u001b[0;32m    287\u001b[0m     \u001b[39mwith\u001b[39;00m parallel_backend(\u001b[39mself\u001b[39m\u001b[39m.\u001b[39m_backend, n_jobs\u001b[39m=\u001b[39m\u001b[39mself\u001b[39m\u001b[39m.\u001b[39m_n_jobs):\n\u001b[1;32m--> 288\u001b[0m         \u001b[39mreturn\u001b[39;00m [func(\u001b[39m*\u001b[39margs, \u001b[39m*\u001b[39m\u001b[39m*\u001b[39mkwargs)\n\u001b[0;32m    289\u001b[0m                 \u001b[39mfor\u001b[39;00m func, args, kwargs \u001b[39min\u001b[39;00m \u001b[39mself\u001b[39m\u001b[39m.\u001b[39mitems]\n",
      "File \u001b[1;32mc:\\Users\\Asus\\miniconda3\\envs\\project\\lib\\site-packages\\sklearn\\utils\\parallel.py:127\u001b[0m, in \u001b[0;36m_FuncWrapper.__call__\u001b[1;34m(self, *args, **kwargs)\u001b[0m\n\u001b[0;32m    125\u001b[0m     config \u001b[39m=\u001b[39m {}\n\u001b[0;32m    126\u001b[0m \u001b[39mwith\u001b[39;00m config_context(\u001b[39m*\u001b[39m\u001b[39m*\u001b[39mconfig):\n\u001b[1;32m--> 127\u001b[0m     \u001b[39mreturn\u001b[39;00m \u001b[39mself\u001b[39m\u001b[39m.\u001b[39mfunction(\u001b[39m*\u001b[39margs, \u001b[39m*\u001b[39m\u001b[39m*\u001b[39mkwargs)\n",
      "File \u001b[1;32mc:\\Users\\Asus\\miniconda3\\envs\\project\\lib\\site-packages\\sklearn\\neighbors\\_base.py:683\u001b[0m, in \u001b[0;36m_tree_query_parallel_helper\u001b[1;34m(tree, *args, **kwargs)\u001b[0m\n\u001b[0;32m    677\u001b[0m \u001b[39mdef\u001b[39;00m \u001b[39m_tree_query_parallel_helper\u001b[39m(tree, \u001b[39m*\u001b[39margs, \u001b[39m*\u001b[39m\u001b[39m*\u001b[39mkwargs):\n\u001b[0;32m    678\u001b[0m \u001b[39m    \u001b[39m\u001b[39m\"\"\"Helper for the Parallel calls in KNeighborsMixin.kneighbors.\u001b[39;00m\n\u001b[0;32m    679\u001b[0m \n\u001b[0;32m    680\u001b[0m \u001b[39m    The Cython method tree.query is not directly picklable by cloudpickle\u001b[39;00m\n\u001b[0;32m    681\u001b[0m \u001b[39m    under PyPy.\u001b[39;00m\n\u001b[0;32m    682\u001b[0m \u001b[39m    \"\"\"\u001b[39;00m\n\u001b[1;32m--> 683\u001b[0m     \u001b[39mreturn\u001b[39;00m tree\u001b[39m.\u001b[39mquery(\u001b[39m*\u001b[39margs, \u001b[39m*\u001b[39m\u001b[39m*\u001b[39mkwargs)\n",
      "\u001b[1;31mKeyboardInterrupt\u001b[0m: "
     ]
    }
   ],
   "source": [
    "hurto_ml_scores  = compare_metrics(elearn,X,y,metricas,0.8,20)\n",
    "hurto_ml_scores"
   ]
  },
  {
   "cell_type": "markdown",
   "metadata": {},
   "source": [
    "##### Multietiqueta"
   ]
  },
  {
   "cell_type": "code",
   "execution_count": 8,
   "metadata": {},
   "outputs": [],
   "source": [
    "bins = [-1, 12, 18, 30, 60, float('inf')]\n",
    "labels = ['Niño', 'Adolescente', 'Adulto joven', 'Adulto', 'Adulto mayor']\n",
    "\n",
    "# Utiliza pd.cut para crear los intervalos y asignar las etiquetas\n",
    "hurto_ml['grupo_edad'] = pd.cut(hurto_ml['Edad'], bins=bins, labels=labels, right=False)"
   ]
  },
  {
   "cell_type": "code",
   "execution_count": 9,
   "metadata": {},
   "outputs": [],
   "source": [
    "categorical_cols = ['grupo_edad']\n",
    "label_encoders = {}\n",
    "for col in categorical_cols:\n",
    "    le = LabelEncoder()\n",
    "    hurto_ml[col] = le.fit_transform(hurto_ml[col])\n",
    "    label_encoders[col] = le"
   ]
  },
  {
   "cell_type": "code",
   "execution_count": 32,
   "metadata": {},
   "outputs": [],
   "source": [
    "# Dividir el conjunto de datos en características (X) y etiquetas (y)\n",
    "X = hurto_ml.drop(['Fecha', 'grupo_edad', 'Sexo','Edad'], axis=1)\n",
    "y = list(zip(hurto_ml['grupo_edad'],hurto_ml['Sexo']))\n",
    "\n",
    "# Dividir el conjunto de datos en conjuntos de entrenamiento y prueba\n",
    "X_train, X_test, y_train, y_test = train_test_split(X, y, test_size=0.2, random_state=42)\n",
    "\n",
    "# Crear un clasificador multi-etiqueta (por ejemplo, Random Forest)\n",
    "classifier = MultiOutputClassifier(RandomForestClassifier(n_estimators=100, random_state=42))\n",
    "\n",
    "# Entrenar el modelo\n",
    "classifier.fit(X_train, y_train)\n",
    "\n",
    "# Realizar predicciones en el conjunto de prueba\n",
    "y_pred = classifier.predict(X_test)\n",
    "\n",
    "# Evaluar el rendimiento del modelo\n",
    "#print(classifier.score(X_train, np.array(y_train)))"
   ]
  },
  {
   "cell_type": "code",
   "execution_count": 34,
   "metadata": {},
   "outputs": [
    {
     "ename": "AttributeError",
     "evalue": "'list' object has no attribute 'shape'",
     "output_type": "error",
     "traceback": [
      "\u001b[1;31m---------------------------------------------------------------------------\u001b[0m",
      "\u001b[1;31mAttributeError\u001b[0m                            Traceback (most recent call last)",
      "\u001b[1;32mc:\\Users\\Asus\\OneDrive - Universidad de la Sabana\\Universidad\\Octavo Semestre\\Proyecto de analítica\\Proyecto_analitica_aplicada\\ML_application.ipynb Cell 12\u001b[0m line \u001b[0;36m1\n\u001b[1;32m----> <a href='vscode-notebook-cell:/c%3A/Users/Asus/OneDrive%20-%20Universidad%20de%20la%20Sabana/Universidad/Octavo%20Semestre/Proyecto%20de%20anal%C3%ADtica/Proyecto_analitica_aplicada/ML_application.ipynb#X43sZmlsZQ%3D%3D?line=0'>1</a>\u001b[0m y_train\u001b[39m.\u001b[39;49mshape[\u001b[39m1\u001b[39m]\n",
      "\u001b[1;31mAttributeError\u001b[0m: 'list' object has no attribute 'shape'"
     ]
    }
   ],
   "source": [
    "y_train.shape[1]"
   ]
  },
  {
   "cell_type": "code",
   "execution_count": 35,
   "metadata": {},
   "outputs": [
    {
     "name": "stderr",
     "output_type": "stream",
     "text": [
      "C:\\Users\\Asus\\AppData\\Local\\Temp\\ipykernel_18780\\231804863.py:26: MatplotlibDeprecationWarning: Auto-removal of overlapping axes is deprecated since 3.6 and will be removed two minor releases later; explicitly call ax.remove() as needed.\n",
      "  plt.subplot(2, int(np.ceil(n_outputs / 2)), valid_outputs + 1)\n"
     ]
    },
    {
     "data": {
      "image/png": "[encoded data removed]",
      "text/plain": [
       "<Figure size 1200x800 with 1 Axes>"
      ]
     },
     "metadata": {},
     "output_type": "display_data"
    },
    {
     "data": {
      "image/png": "[encoded data removed]",
      "text/plain": [
       "<Figure size 640x480 with 1 Axes>"
      ]
     },
     "metadata": {},
     "output_type": "display_data"
    },
    {
     "data": {
      "image/png": "[encoded data removed]",
      "text/plain": [
       "<Figure size 640x480 with 2 Axes>"
      ]
     },
     "metadata": {},
     "output_type": "display_data"
    }
   ],
   "source": [
    "y_train = np.array(y_train)\n",
    "y_test = np.array(y_test)\n",
    "\n",
    "# Calcula las matrices de confusión normalizadas\n",
    "\n",
    "n_outputs = y_train.shape[1]\n",
    "normalized_cm = []\n",
    "\n",
    "for i in range(n_outputs):\n",
    "    if np.any(y_test[:, i]) and np.any(y_pred[:, i]):\n",
    "        cm = confusion_matrix(y_test[:, i], y_pred[:, i])\n",
    "        \n",
    "        # Asegúrate de que el denominador no sea cero\n",
    "        denominator = cm.sum(axis=1, keepdims=True)\n",
    "        denominator[denominator == 0] = 1  # Evitar división por cero\n",
    "        normalized_cm.append(cm / denominator)\n",
    "    else:\n",
    "        normalized_cm.append(np.zeros((2, 2)))  # Matriz vacía si no hay muestras o predicciones para esta salida\n",
    "\n",
    "# Grafica las matrices de confusión con etiquetas de correlación\n",
    "plt.figure(figsize=(12, 8))\n",
    "valid_outputs = 0  # Contador de salidas válidas\n",
    "\n",
    "for i in range(n_outputs):\n",
    "    if np.any(y_test[:, i]) and np.any(y_pred[:, i]):\n",
    "        plt.subplot(2, int(np.ceil(n_outputs / 2)), valid_outputs + 1)\n",
    "        \n",
    "        # Mostrar la matriz de confusión normalizada con etiquetas de correlación\n",
    "        disp = ConfusionMatrixDisplay(confusion_matrix=normalized_cm[i], display_labels=np.unique(y_test[:, i]))\n",
    "        disp.plot(cmap=plt.cm.Blues, values_format=\".2f\")\n",
    "        plt.title(f\"Matriz de Confusión Normalizada (Salida {valid_outputs})\")\n",
    "        valid_outputs += 1\n",
    "\n",
    "plt.tight_layout()\n",
    "plt.show()"
   ]
  },
  {
   "cell_type": "code",
   "execution_count": 12,
   "metadata": {},
   "outputs": [],
   "source": [
    "B_grupo_edad = {1:'Adulto', 2:'Adulto joven',3:'Adulto mayor',0:'Adolescente',4:'Niño'}\n",
    "B_genero = {0:'Hombre', 1:'Mujer'}"
   ]
  },
  {
   "cell_type": "code",
   "execution_count": 13,
   "metadata": {},
   "outputs": [],
   "source": [
    "test = [(1,3,3,11,13,66,43,2033)]"
   ]
  },
  {
   "cell_type": "code",
   "execution_count": 14,
   "metadata": {},
   "outputs": [
    {
     "data": {
      "text/plain": [
       "'Adulto'"
      ]
     },
     "execution_count": 14,
     "metadata": {},
     "output_type": "execute_result"
    }
   ],
   "source": [
    "mapeo_categorias = dict(zip(label_encoders['grupo_edad'] .classes_, label_encoders['grupo_edad'] .transform(label_encoders['grupo_edad'] .classes_)))\n",
    "valor_codificado = 1  # Reemplaza con el valor codificado que deseas revertir\n",
    "valor_original = [key for key, value in mapeo_categorias.items() if value == valor_codificado][0]\n",
    "valor_original\n"
   ]
  },
  {
   "cell_type": "code",
   "execution_count": 15,
   "metadata": {},
   "outputs": [
    {
     "data": {
      "text/plain": [
       "'Adulto'"
      ]
     },
     "execution_count": 15,
     "metadata": {},
     "output_type": "execute_result"
    }
   ],
   "source": [
    "mapeo_categorias = dict(zip(le.classes_, le.transform(le.classes_)))\n",
    "\n",
    "valor_codificado = 1 # Reemplaza con el valor codificado que deseas revertir\n",
    "\n",
    "valor_original = [key for key, value in mapeo_categorias.items() if value == valor_codificado][0]\n",
    "\n",
    "valor_original "
   ]
  },
  {
   "cell_type": "code",
   "execution_count": 16,
   "metadata": {},
   "outputs": [
    {
     "name": "stdout",
     "output_type": "stream",
     "text": [
      "Género predicción: Hombre \n",
      " Grupo edad predicción: Adulto\n"
     ]
    },
    {
     "name": "stderr",
     "output_type": "stream",
     "text": [
      "c:\\Users\\Asus\\miniconda3\\envs\\project\\lib\\site-packages\\sklearn\\base.py:465: UserWarning: X does not have valid feature names, but RandomForestClassifier was fitted with feature names\n",
      "  warnings.warn(\n",
      "c:\\Users\\Asus\\miniconda3\\envs\\project\\lib\\site-packages\\sklearn\\base.py:465: UserWarning: X does not have valid feature names, but RandomForestClassifier was fitted with feature names\n",
      "  warnings.warn(\n"
     ]
    }
   ],
   "source": [
    "y_pred = classifier.predict(test)\n",
    "\n",
    "print('Género predicción:', B_genero[y_pred[0, 1]],'\\n','Grupo edad predicción:', B_grupo_edad[y_pred[0, 0]])"
   ]
  }
 ],
 "metadata": {
  "kernelspec": {
   "display_name": "project",
   "language": "python",
   "name": "python3"
  },
  "language_info": {
   "codemirror_mode": {
    "name": "ipython",
    "version": 3
   },
   "file_extension": ".py",
   "mimetype": "text/x-python",
   "name": "python",
   "nbconvert_exporter": "python",
   "pygments_lexer": "ipython3",
   "version": "3.10.12"
  },
  "orig_nbformat": 4
 },
 "nbformat": 4,
 "nbformat_minor": 2
}

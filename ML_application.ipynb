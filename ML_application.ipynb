{
 "cells": [
  {
   "cell_type": "code",
   "execution_count": 13,
   "metadata": {},
   "outputs": [],
   "source": [
    "from sklearn.model_selection import train_test_split\n",
    "from sklearn.preprocessing import LabelEncoder\n"
   ]
  },
  {
   "cell_type": "code",
   "execution_count": 14,
   "metadata": {},
   "outputs": [],
   "source": [
    "from data_quality import cargue_datasets_c\n",
    "casos, hurto_tp, mede_victimas, compar = cargue_datasets_c()"
   ]
  },
  {
   "cell_type": "code",
   "execution_count": 15,
   "metadata": {},
   "outputs": [],
   "source": [
    "hurto_ml=hurto_tp"
   ]
  },
  {
   "cell_type": "code",
   "execution_count": 16,
   "metadata": {},
   "outputs": [],
   "source": [
    "from data_quality import casos_c\n",
    "casos=casos_c(casos)\n",
    "\n",
    "from data_quality import hurto_tp_c\n",
    "hurto_tp= hurto_tp_c(hurto_tp)\n",
    "\n",
    "from data_quality import medevic_c\n",
    "mede_victimas = medevic_c(mede_victimas)"
   ]
  },
  {
   "cell_type": "code",
   "execution_count": 17,
   "metadata": {},
   "outputs": [],
   "source": [
    "hurto_ml = hurto_ml.drop(hurto_ml.columns[0], axis=1)"
   ]
  },
  {
   "cell_type": "code",
   "execution_count": 18,
   "metadata": {},
   "outputs": [],
   "source": [
    "hurto_ml = hurto_ml[hurto_ml['Sexo'] != 'Sin dato']"
   ]
  },
  {
   "cell_type": "code",
   "execution_count": 19,
   "metadata": {},
   "outputs": [
    {
     "data": {
      "text/html": [
       "<div>\n",
       "<style scoped>\n",
       "    .dataframe tbody tr th:only-of-type {\n",
       "        vertical-align: middle;\n",
       "    }\n",
       "\n",
       "    .dataframe tbody tr th {\n",
       "        vertical-align: top;\n",
       "    }\n",
       "\n",
       "    .dataframe thead th {\n",
       "        text-align: right;\n",
       "    }\n",
       "</style>\n",
       "<table border=\"1\" class=\"dataframe\">\n",
       "  <thead>\n",
       "    <tr style=\"text-align: right;\">\n",
       "      <th></th>\n",
       "      <th>Sexo</th>\n",
       "      <th>Edad</th>\n",
       "      <th>Estado_civil</th>\n",
       "      <th>Transporte</th>\n",
       "      <th>Modalidad</th>\n",
       "      <th>Conducta</th>\n",
       "      <th>Comuna</th>\n",
       "      <th>Lugar</th>\n",
       "      <th>Bien</th>\n",
       "      <th>Año</th>\n",
       "    </tr>\n",
       "  </thead>\n",
       "  <tbody>\n",
       "    <tr>\n",
       "      <th>0</th>\n",
       "      <td>Hombre</td>\n",
       "      <td>37</td>\n",
       "      <td>Casado(a)</td>\n",
       "      <td>Taxi</td>\n",
       "      <td>Atraco</td>\n",
       "      <td>De celular</td>\n",
       "      <td>4.0</td>\n",
       "      <td>Vía pública</td>\n",
       "      <td>Celular</td>\n",
       "      <td>2017</td>\n",
       "    </tr>\n",
       "    <tr>\n",
       "      <th>1</th>\n",
       "      <td>Mujer</td>\n",
       "      <td>29</td>\n",
       "      <td>Unión marital de hecho</td>\n",
       "      <td>Taxi</td>\n",
       "      <td>Descuido</td>\n",
       "      <td>No</td>\n",
       "      <td>16.0</td>\n",
       "      <td>Vía pública</td>\n",
       "      <td>Elementos escolares</td>\n",
       "      <td>2017</td>\n",
       "    </tr>\n",
       "    <tr>\n",
       "      <th>2</th>\n",
       "      <td>Mujer</td>\n",
       "      <td>29</td>\n",
       "      <td>Unión marital de hecho</td>\n",
       "      <td>Taxi</td>\n",
       "      <td>Descuido</td>\n",
       "      <td>No</td>\n",
       "      <td>16.0</td>\n",
       "      <td>Vía pública</td>\n",
       "      <td>Computador</td>\n",
       "      <td>2017</td>\n",
       "    </tr>\n",
       "    <tr>\n",
       "      <th>3</th>\n",
       "      <td>Hombre</td>\n",
       "      <td>36</td>\n",
       "      <td>Casado(a)</td>\n",
       "      <td>Taxi</td>\n",
       "      <td>Atraco</td>\n",
       "      <td>A taxista</td>\n",
       "      <td>8.0</td>\n",
       "      <td>Vía pública</td>\n",
       "      <td>Peso</td>\n",
       "      <td>2017</td>\n",
       "    </tr>\n",
       "    <tr>\n",
       "      <th>4</th>\n",
       "      <td>Hombre</td>\n",
       "      <td>36</td>\n",
       "      <td>Casado(a)</td>\n",
       "      <td>Taxi</td>\n",
       "      <td>Atraco</td>\n",
       "      <td>A taxista</td>\n",
       "      <td>8.0</td>\n",
       "      <td>Vía pública</td>\n",
       "      <td>Celular</td>\n",
       "      <td>2017</td>\n",
       "    </tr>\n",
       "    <tr>\n",
       "      <th>...</th>\n",
       "      <td>...</td>\n",
       "      <td>...</td>\n",
       "      <td>...</td>\n",
       "      <td>...</td>\n",
       "      <td>...</td>\n",
       "      <td>...</td>\n",
       "      <td>...</td>\n",
       "      <td>...</td>\n",
       "      <td>...</td>\n",
       "      <td>...</td>\n",
       "    </tr>\n",
       "    <tr>\n",
       "      <th>25705</th>\n",
       "      <td>Hombre</td>\n",
       "      <td>35</td>\n",
       "      <td>Soltero(a)</td>\n",
       "      <td>Metro</td>\n",
       "      <td>Cosquilleo</td>\n",
       "      <td>Sin dato</td>\n",
       "      <td>10.0</td>\n",
       "      <td>Estación del Metro</td>\n",
       "      <td>Celular</td>\n",
       "      <td>2021</td>\n",
       "    </tr>\n",
       "    <tr>\n",
       "      <th>25706</th>\n",
       "      <td>Mujer</td>\n",
       "      <td>26</td>\n",
       "      <td>Soltero(a)</td>\n",
       "      <td>Metro</td>\n",
       "      <td>Cosquilleo</td>\n",
       "      <td>Sin dato</td>\n",
       "      <td>10.0</td>\n",
       "      <td>Estación del Metro</td>\n",
       "      <td>Celular</td>\n",
       "      <td>2021</td>\n",
       "    </tr>\n",
       "    <tr>\n",
       "      <th>25707</th>\n",
       "      <td>Hombre</td>\n",
       "      <td>25</td>\n",
       "      <td>Soltero(a)</td>\n",
       "      <td>Taxi</td>\n",
       "      <td>Atraco</td>\n",
       "      <td>Sin dato</td>\n",
       "      <td>4.0</td>\n",
       "      <td>Bar o cantina</td>\n",
       "      <td>Celular</td>\n",
       "      <td>2021</td>\n",
       "    </tr>\n",
       "    <tr>\n",
       "      <th>25708</th>\n",
       "      <td>Hombre</td>\n",
       "      <td>25</td>\n",
       "      <td>Soltero(a)</td>\n",
       "      <td>Metro</td>\n",
       "      <td>Cosquilleo</td>\n",
       "      <td>Sin dato</td>\n",
       "      <td>14.0</td>\n",
       "      <td>Estación del Metro</td>\n",
       "      <td>Celular</td>\n",
       "      <td>2021</td>\n",
       "    </tr>\n",
       "    <tr>\n",
       "      <th>25709</th>\n",
       "      <td>Hombre</td>\n",
       "      <td>23</td>\n",
       "      <td>Unión marital de hecho</td>\n",
       "      <td>Metro</td>\n",
       "      <td>Cosquilleo</td>\n",
       "      <td>Sin dato</td>\n",
       "      <td>4.0</td>\n",
       "      <td>Bus de servicio público</td>\n",
       "      <td>Celular</td>\n",
       "      <td>2021</td>\n",
       "    </tr>\n",
       "  </tbody>\n",
       "</table>\n",
       "<p>25665 rows × 10 columns</p>\n",
       "</div>"
      ],
      "text/plain": [
       "         Sexo  Edad            Estado_civil Transporte   Modalidad   \n",
       "0      Hombre    37               Casado(a)       Taxi      Atraco  \\\n",
       "1       Mujer    29  Unión marital de hecho       Taxi    Descuido   \n",
       "2       Mujer    29  Unión marital de hecho       Taxi    Descuido   \n",
       "3      Hombre    36               Casado(a)       Taxi      Atraco   \n",
       "4      Hombre    36               Casado(a)       Taxi      Atraco   \n",
       "...       ...   ...                     ...        ...         ...   \n",
       "25705  Hombre    35              Soltero(a)      Metro  Cosquilleo   \n",
       "25706   Mujer    26              Soltero(a)      Metro  Cosquilleo   \n",
       "25707  Hombre    25              Soltero(a)       Taxi      Atraco   \n",
       "25708  Hombre    25              Soltero(a)      Metro  Cosquilleo   \n",
       "25709  Hombre    23  Unión marital de hecho      Metro  Cosquilleo   \n",
       "\n",
       "         Conducta  Comuna                    Lugar                 Bien   Año  \n",
       "0      De celular     4.0              Vía pública              Celular  2017  \n",
       "1              No    16.0              Vía pública  Elementos escolares  2017  \n",
       "2              No    16.0              Vía pública           Computador  2017  \n",
       "3       A taxista     8.0              Vía pública                 Peso  2017  \n",
       "4       A taxista     8.0              Vía pública              Celular  2017  \n",
       "...           ...     ...                      ...                  ...   ...  \n",
       "25705    Sin dato    10.0       Estación del Metro              Celular  2021  \n",
       "25706    Sin dato    10.0       Estación del Metro              Celular  2021  \n",
       "25707    Sin dato     4.0            Bar o cantina              Celular  2021  \n",
       "25708    Sin dato    14.0       Estación del Metro              Celular  2021  \n",
       "25709    Sin dato     4.0  Bus de servicio público              Celular  2021  \n",
       "\n",
       "[25665 rows x 10 columns]"
      ]
     },
     "execution_count": 19,
     "metadata": {},
     "output_type": "execute_result"
    }
   ],
   "source": [
    "hurto_ml"
   ]
  },
  {
   "cell_type": "code",
   "execution_count": 20,
   "metadata": {},
   "outputs": [],
   "source": [
    "label_encoders = {}\n",
    "categorical_columns = ['Transporte', 'Estado_civil', 'Lugar', 'Bien', 'Conducta', 'Comuna', 'Año', 'Sexo', 'Modalidad']\n",
    "\n",
    "for column in categorical_columns:\n",
    "    label_encoders[column] = LabelEncoder()\n",
    "    hurto_ml[column] = label_encoders[column].fit_transform(hurto_ml[column])\n"
   ]
  },
  {
   "cell_type": "code",
   "execution_count": 21,
   "metadata": {},
   "outputs": [],
   "source": [
    "X = hurto_ml.drop('Sexo', axis=1)  # Características\n",
    "y = hurto_ml['Sexo']  # Variable objetivo\n",
    "X_train, X_test, y_train, y_test = train_test_split(X, y, test_size=0.2, random_state=42)\n"
   ]
  },
  {
   "cell_type": "code",
   "execution_count": 22,
   "metadata": {},
   "outputs": [
    {
     "data": {
      "text/html": [
       "<style>#sk-container-id-2 {color: black;}#sk-container-id-2 pre{padding: 0;}#sk-container-id-2 div.sk-toggleable {background-color: white;}#sk-container-id-2 label.sk-toggleable__label {cursor: pointer;display: block;width: 100%;margin-bottom: 0;padding: 0.3em;box-sizing: border-box;text-align: center;}#sk-container-id-2 label.sk-toggleable__label-arrow:before {content: \"▸\";float: left;margin-right: 0.25em;color: #696969;}#sk-container-id-2 label.sk-toggleable__label-arrow:hover:before {color: black;}#sk-container-id-2 div.sk-estimator:hover label.sk-toggleable__label-arrow:before {color: black;}#sk-container-id-2 div.sk-toggleable__content {max-height: 0;max-width: 0;overflow: hidden;text-align: left;background-color: #f0f8ff;}#sk-container-id-2 div.sk-toggleable__content pre {margin: 0.2em;color: black;border-radius: 0.25em;background-color: #f0f8ff;}#sk-container-id-2 input.sk-toggleable__control:checked~div.sk-toggleable__content {max-height: 200px;max-width: 100%;overflow: auto;}#sk-container-id-2 input.sk-toggleable__control:checked~label.sk-toggleable__label-arrow:before {content: \"▾\";}#sk-container-id-2 div.sk-estimator input.sk-toggleable__control:checked~label.sk-toggleable__label {background-color: #d4ebff;}#sk-container-id-2 div.sk-label input.sk-toggleable__control:checked~label.sk-toggleable__label {background-color: #d4ebff;}#sk-container-id-2 input.sk-hidden--visually {border: 0;clip: rect(1px 1px 1px 1px);clip: rect(1px, 1px, 1px, 1px);height: 1px;margin: -1px;overflow: hidden;padding: 0;position: absolute;width: 1px;}#sk-container-id-2 div.sk-estimator {font-family: monospace;background-color: #f0f8ff;border: 1px dotted black;border-radius: 0.25em;box-sizing: border-box;margin-bottom: 0.5em;}#sk-container-id-2 div.sk-estimator:hover {background-color: #d4ebff;}#sk-container-id-2 div.sk-parallel-item::after {content: \"\";width: 100%;border-bottom: 1px solid gray;flex-grow: 1;}#sk-container-id-2 div.sk-label:hover label.sk-toggleable__label {background-color: #d4ebff;}#sk-container-id-2 div.sk-serial::before {content: \"\";position: absolute;border-left: 1px solid gray;box-sizing: border-box;top: 0;bottom: 0;left: 50%;z-index: 0;}#sk-container-id-2 div.sk-serial {display: flex;flex-direction: column;align-items: center;background-color: white;padding-right: 0.2em;padding-left: 0.2em;position: relative;}#sk-container-id-2 div.sk-item {position: relative;z-index: 1;}#sk-container-id-2 div.sk-parallel {display: flex;align-items: stretch;justify-content: center;background-color: white;position: relative;}#sk-container-id-2 div.sk-item::before, #sk-container-id-2 div.sk-parallel-item::before {content: \"\";position: absolute;border-left: 1px solid gray;box-sizing: border-box;top: 0;bottom: 0;left: 50%;z-index: -1;}#sk-container-id-2 div.sk-parallel-item {display: flex;flex-direction: column;z-index: 1;position: relative;background-color: white;}#sk-container-id-2 div.sk-parallel-item:first-child::after {align-self: flex-end;width: 50%;}#sk-container-id-2 div.sk-parallel-item:last-child::after {align-self: flex-start;width: 50%;}#sk-container-id-2 div.sk-parallel-item:only-child::after {width: 0;}#sk-container-id-2 div.sk-dashed-wrapped {border: 1px dashed gray;margin: 0 0.4em 0.5em 0.4em;box-sizing: border-box;padding-bottom: 0.4em;background-color: white;}#sk-container-id-2 div.sk-label label {font-family: monospace;font-weight: bold;display: inline-block;line-height: 1.2em;}#sk-container-id-2 div.sk-label-container {text-align: center;}#sk-container-id-2 div.sk-container {/* jupyter's `normalize.less` sets `[hidden] { display: none; }` but bootstrap.min.css set `[hidden] { display: none !important; }` so we also need the `!important` here to be able to override the default hidden behavior on the sphinx rendered scikit-learn.org. See: https://github.com/scikit-learn/scikit-learn/issues/21755 */display: inline-block !important;position: relative;}#sk-container-id-2 div.sk-text-repr-fallback {display: none;}</style><div id=\"sk-container-id-2\" class=\"sk-top-container\"><div class=\"sk-text-repr-fallback\"><pre>RandomForestClassifier()</pre><b>In a Jupyter environment, please rerun this cell to show the HTML representation or trust the notebook. <br />On GitHub, the HTML representation is unable to render, please try loading this page with nbviewer.org.</b></div><div class=\"sk-container\" hidden><div class=\"sk-item\"><div class=\"sk-estimator sk-toggleable\"><input class=\"sk-toggleable__control sk-hidden--visually\" id=\"sk-estimator-id-2\" type=\"checkbox\" checked><label for=\"sk-estimator-id-2\" class=\"sk-toggleable__label sk-toggleable__label-arrow\">RandomForestClassifier</label><div class=\"sk-toggleable__content\"><pre>RandomForestClassifier()</pre></div></div></div></div></div>"
      ],
      "text/plain": [
       "RandomForestClassifier()"
      ]
     },
     "execution_count": 22,
     "metadata": {},
     "output_type": "execute_result"
    }
   ],
   "source": [
    "from sklearn.ensemble import RandomForestClassifier\n",
    "\n",
    "model = RandomForestClassifier()\n",
    "model.fit(X_train, y_train)"
   ]
  },
  {
   "cell_type": "code",
   "execution_count": 23,
   "metadata": {},
   "outputs": [
    {
     "name": "stdout",
     "output_type": "stream",
     "text": [
      "Accuracy: 0.73\n",
      "              precision    recall  f1-score   support\n",
      "\n",
      "           0       0.73      0.74      0.73      2622\n",
      "           1       0.72      0.71      0.72      2511\n",
      "\n",
      "    accuracy                           0.73      5133\n",
      "   macro avg       0.73      0.73      0.73      5133\n",
      "weighted avg       0.73      0.73      0.73      5133\n",
      "\n"
     ]
    }
   ],
   "source": [
    "from sklearn.metrics import accuracy_score, classification_report\n",
    "\n",
    "y_pred = model.predict(X_test)\n",
    "accuracy = accuracy_score(y_test, y_pred)\n",
    "print(f'Accuracy: {accuracy:.2f}')\n",
    "print(classification_report(y_test, y_pred))\n"
   ]
  }
 ],
 "metadata": {
  "kernelspec": {
   "display_name": "project",
   "language": "python",
   "name": "python3"
  },
  "language_info": {
   "codemirror_mode": {
    "name": "ipython",
    "version": 3
   },
   "file_extension": ".py",
   "mimetype": "text/x-python",
   "name": "python",
   "nbconvert_exporter": "python",
   "pygments_lexer": "ipython3",
   "version": "3.10.11"
  },
  "orig_nbformat": 4
 },
 "nbformat": 4,
 "nbformat_minor": 2
}
